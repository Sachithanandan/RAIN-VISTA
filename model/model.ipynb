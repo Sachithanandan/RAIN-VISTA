{
 "cells": [
  {
   "cell_type": "code",
   "execution_count": 1,
   "id": "2506a3f5",
   "metadata": {
    "_cell_guid": "b1076dfc-b9ad-4769-8c92-a6c4dae69d19",
    "_uuid": "8f2839f25d086af736a60e9eeb907d3b93b6e0e5",
    "execution": {
     "iopub.execute_input": "2022-10-11T18:52:40.566112Z",
     "iopub.status.busy": "2022-10-11T18:52:40.565653Z",
     "iopub.status.idle": "2022-10-11T18:52:40.582231Z",
     "shell.execute_reply": "2022-10-11T18:52:40.581096Z"
    },
    "papermill": {
     "duration": 0.034352,
     "end_time": "2022-10-11T18:52:40.584791",
     "exception": false,
     "start_time": "2022-10-11T18:52:40.550439",
     "status": "completed"
    },
    "tags": []
   },
   "outputs": [],
   "source": [
    "# This Python 3 environment comes with many helpful analytics libraries installed\n",
    "# It is defined by the kaggle/python Docker image: https://github.com/kaggle/docker-python\n",
    "# For example, here's several helpful packages to load\n",
    "\n",
    "import numpy as np # linear algebra\n",
    "import pandas as pd # data processing, CSV file I/O (e.g. pd.read_csv)\n",
    "\n",
    "# Input data files are available in the read-only \"../input/\" directory\n",
    "# For example, running this (by clicking run or pressing Shift+Enter) will list all files under the input directory\n",
    "\n",
    "import os\n",
    "for dirname, _, filenames in os.walk('\"D:\\\\nowcasting\\\\IMDDataset\\\\RF25_ind2020_rfp25.nc\"'):\n",
    "    for filename in filenames:\n",
    "        print(os.path.join(dirname, filename))\n",
    "\n",
    "# You can write up to 20GB to the current directory (/kaggle/working/) that gets preserved as output when you create a version using \"Save & Run All\" \n",
    "# You can also write temporary files to /kaggle/temp/, but they won't be saved outside of the current session"
   ]
  },
  {
   "cell_type": "markdown",
   "id": "6d911341",
   "metadata": {
    "papermill": {
     "duration": 0.011535,
     "end_time": "2022-10-11T18:52:40.608462",
     "exception": false,
     "start_time": "2022-10-11T18:52:40.596927",
     "status": "completed"
    },
    "tags": []
   },
   "source": [
    "# **First we need to intall some important libraries to run NetCDF file**"
   ]
  },
  {
   "cell_type": "code",
   "execution_count": 2,
   "id": "b0d95455",
   "metadata": {
    "execution": {
     "iopub.execute_input": "2022-10-11T18:52:40.635535Z",
     "iopub.status.busy": "2022-10-11T18:52:40.635070Z",
     "iopub.status.idle": "2022-10-11T18:52:53.506535Z",
     "shell.execute_reply": "2022-10-11T18:52:53.505352Z"
    },
    "papermill": {
     "duration": 12.888549,
     "end_time": "2022-10-11T18:52:53.508801",
     "exception": false,
     "start_time": "2022-10-11T18:52:40.620252",
     "status": "completed"
    },
    "tags": []
   },
   "outputs": [
    {
     "name": "stdout",
     "output_type": "stream",
     "text": [
      "Collecting metpy\n",
      "  Downloading MetPy-1.6.2-py3-none-any.whl (409 kB)\n",
      "     -------------------------------------- 409.5/409.5 kB 1.3 MB/s eta 0:00:00\n",
      "Requirement already satisfied: traitlets>=5.0.5 in c:\\users\\bhuva\\appdata\\local\\programs\\python\\python310\\lib\\site-packages (from metpy) (5.5.0)\n",
      "Requirement already satisfied: numpy>=1.20.0 in c:\\users\\bhuva\\appdata\\local\\programs\\python\\python310\\lib\\site-packages (from metpy) (1.25.2)\n",
      "Collecting pint>=0.17\n",
      "  Downloading Pint-0.24.3-py3-none-any.whl (301 kB)\n",
      "     -------------------------------------- 301.8/301.8 kB 2.1 MB/s eta 0:00:00\n",
      "Requirement already satisfied: pyproj>=3.0.0 in c:\\users\\bhuva\\appdata\\local\\programs\\python\\python310\\lib\\site-packages (from metpy) (3.6.1)\n",
      "Requirement already satisfied: xarray>=0.21.0 in c:\\users\\bhuva\\appdata\\local\\programs\\python\\python310\\lib\\site-packages (from metpy) (2023.12.0)\n",
      "Collecting pooch>=1.2.0\n",
      "  Downloading pooch-1.8.2-py3-none-any.whl (64 kB)\n",
      "     ---------------------------------------- 64.6/64.6 kB 1.8 MB/s eta 0:00:00\n",
      "Requirement already satisfied: matplotlib>=3.5.0 in c:\\users\\bhuva\\appdata\\local\\programs\\python\\python310\\lib\\site-packages (from metpy) (3.6.0)\n",
      "Requirement already satisfied: scipy>=1.8.0 in c:\\users\\bhuva\\appdata\\local\\programs\\python\\python310\\lib\\site-packages (from metpy) (1.9.3)\n",
      "Requirement already satisfied: pandas>=1.4.0 in c:\\users\\bhuva\\appdata\\local\\programs\\python\\python310\\lib\\site-packages (from metpy) (1.5.1)\n",
      "Requirement already satisfied: kiwisolver>=1.0.1 in c:\\users\\bhuva\\appdata\\local\\programs\\python\\python310\\lib\\site-packages (from matplotlib>=3.5.0->metpy) (1.4.4)\n",
      "Requirement already satisfied: packaging>=20.0 in c:\\users\\bhuva\\appdata\\local\\programs\\python\\python310\\lib\\site-packages (from matplotlib>=3.5.0->metpy) (21.3)\n",
      "Requirement already satisfied: python-dateutil>=2.7 in c:\\users\\bhuva\\appdata\\local\\programs\\python\\python310\\lib\\site-packages (from matplotlib>=3.5.0->metpy) (2.8.2)\n",
      "Requirement already satisfied: cycler>=0.10 in c:\\users\\bhuva\\appdata\\local\\programs\\python\\python310\\lib\\site-packages (from matplotlib>=3.5.0->metpy) (0.11.0)\n",
      "Requirement already satisfied: fonttools>=4.22.0 in c:\\users\\bhuva\\appdata\\local\\programs\\python\\python310\\lib\\site-packages (from matplotlib>=3.5.0->metpy) (4.38.0)\n",
      "Requirement already satisfied: contourpy>=1.0.1 in c:\\users\\bhuva\\appdata\\local\\programs\\python\\python310\\lib\\site-packages (from matplotlib>=3.5.0->metpy) (1.0.5)\n",
      "Requirement already satisfied: pillow>=6.2.0 in c:\\users\\bhuva\\appdata\\local\\programs\\python\\python310\\lib\\site-packages (from matplotlib>=3.5.0->metpy) (9.2.0)\n",
      "Requirement already satisfied: pyparsing>=2.2.1 in c:\\users\\bhuva\\appdata\\local\\programs\\python\\python310\\lib\\site-packages (from matplotlib>=3.5.0->metpy) (3.0.9)\n",
      "Requirement already satisfied: pytz>=2020.1 in c:\\users\\bhuva\\appdata\\local\\programs\\python\\python310\\lib\\site-packages (from pandas>=1.4.0->metpy) (2022.5)\n",
      "Requirement already satisfied: typing-extensions in c:\\users\\bhuva\\appdata\\local\\programs\\python\\python310\\lib\\site-packages (from pint>=0.17->metpy) (4.9.0)\n",
      "Collecting flexcache>=0.3\n",
      "  Downloading flexcache-0.3-py3-none-any.whl (13 kB)\n",
      "Collecting appdirs>=1.4.4\n",
      "  Downloading appdirs-1.4.4-py2.py3-none-any.whl (9.6 kB)\n",
      "Collecting flexparser>=0.3\n",
      "  Downloading flexparser-0.3.1-py3-none-any.whl (27 kB)\n",
      "Requirement already satisfied: platformdirs>=2.5.0 in c:\\users\\bhuva\\appdata\\local\\programs\\python\\python310\\lib\\site-packages (from pooch>=1.2.0->metpy) (4.1.0)\n",
      "Requirement already satisfied: requests>=2.19.0 in c:\\users\\bhuva\\appdata\\local\\programs\\python\\python310\\lib\\site-packages (from pooch>=1.2.0->metpy) (2.31.0)\n",
      "Requirement already satisfied: certifi in c:\\users\\bhuva\\appdata\\local\\programs\\python\\python310\\lib\\site-packages (from pyproj>=3.0.0->metpy) (2023.7.22)\n",
      "Requirement already satisfied: six>=1.5 in c:\\users\\bhuva\\appdata\\local\\programs\\python\\python310\\lib\\site-packages (from python-dateutil>=2.7->matplotlib>=3.5.0->metpy) (1.16.0)\n",
      "Requirement already satisfied: charset-normalizer<4,>=2 in c:\\users\\bhuva\\appdata\\local\\programs\\python\\python310\\lib\\site-packages (from requests>=2.19.0->pooch>=1.2.0->metpy) (3.2.0)\n",
      "Requirement already satisfied: idna<4,>=2.5 in c:\\users\\bhuva\\appdata\\local\\programs\\python\\python310\\lib\\site-packages (from requests>=2.19.0->pooch>=1.2.0->metpy) (3.4)\n",
      "Requirement already satisfied: urllib3<3,>=1.21.1 in c:\\users\\bhuva\\appdata\\local\\programs\\python\\python310\\lib\\site-packages (from requests>=2.19.0->pooch>=1.2.0->metpy) (2.0.4)\n",
      "Installing collected packages: appdirs, flexparser, flexcache, pooch, pint, metpy\n",
      "Successfully installed appdirs-1.4.4 flexcache-0.3 flexparser-0.3.1 metpy-1.6.2 pint-0.24.3 pooch-1.8.2\n",
      "Note: you may need to restart the kernel to use updated packages.\n"
     ]
    },
    {
     "name": "stderr",
     "output_type": "stream",
     "text": [
      "\n",
      "[notice] A new release of pip available: 22.3.1 -> 24.2\n",
      "[notice] To update, run: python.exe -m pip install --upgrade pip\n"
     ]
    }
   ],
   "source": [
    "pip install metpy"
   ]
  },
  {
   "cell_type": "code",
   "execution_count": 3,
   "id": "c31a2418",
   "metadata": {
    "execution": {
     "iopub.execute_input": "2022-10-11T18:52:53.536673Z",
     "iopub.status.busy": "2022-10-11T18:52:53.536248Z",
     "iopub.status.idle": "2022-10-11T18:53:04.320699Z",
     "shell.execute_reply": "2022-10-11T18:53:04.319173Z"
    },
    "papermill": {
     "duration": 10.801433,
     "end_time": "2022-10-11T18:53:04.323197",
     "exception": false,
     "start_time": "2022-10-11T18:52:53.521764",
     "status": "completed"
    },
    "tags": []
   },
   "outputs": [
    {
     "name": "stdout",
     "output_type": "stream",
     "text": [
      "Requirement already satisfied: geopandas in c:\\users\\bhuva\\appdata\\local\\programs\\python\\python310\\lib\\site-packages (0.14.1)\n",
      "Requirement already satisfied: packaging in c:\\users\\bhuva\\appdata\\local\\programs\\python\\python310\\lib\\site-packages (from geopandas) (21.3)\n",
      "Requirement already satisfied: pyproj>=3.3.0 in c:\\users\\bhuva\\appdata\\local\\programs\\python\\python310\\lib\\site-packages (from geopandas) (3.6.1)\n",
      "Requirement already satisfied: fiona>=1.8.21 in c:\\users\\bhuva\\appdata\\local\\programs\\python\\python310\\lib\\site-packages (from geopandas) (1.9.5)\n",
      "Requirement already satisfied: shapely>=1.8.0 in c:\\users\\bhuva\\appdata\\local\\programs\\python\\python310\\lib\\site-packages (from geopandas) (2.0.2)\n",
      "Requirement already satisfied: pandas>=1.4.0 in c:\\users\\bhuva\\appdata\\local\\programs\\python\\python310\\lib\\site-packages (from geopandas) (1.5.1)\n",
      "Requirement already satisfied: attrs>=19.2.0 in c:\\users\\bhuva\\appdata\\local\\programs\\python\\python310\\lib\\site-packages (from fiona>=1.8.21->geopandas) (23.1.0)\n",
      "Requirement already satisfied: click~=8.0 in c:\\users\\bhuva\\appdata\\local\\programs\\python\\python310\\lib\\site-packages (from fiona>=1.8.21->geopandas) (8.1.3)\n",
      "Requirement already satisfied: cligj>=0.5 in c:\\users\\bhuva\\appdata\\local\\programs\\python\\python310\\lib\\site-packages (from fiona>=1.8.21->geopandas) (0.7.2)\n",
      "Requirement already satisfied: click-plugins>=1.0 in c:\\users\\bhuva\\appdata\\local\\programs\\python\\python310\\lib\\site-packages (from fiona>=1.8.21->geopandas) (1.1.1)\n",
      "Requirement already satisfied: setuptools in c:\\users\\bhuva\\appdata\\local\\programs\\python\\python310\\lib\\site-packages (from fiona>=1.8.21->geopandas) (65.5.0)\n",
      "Requirement already satisfied: six in c:\\users\\bhuva\\appdata\\local\\programs\\python\\python310\\lib\\site-packages (from fiona>=1.8.21->geopandas) (1.16.0)\n",
      "Requirement already satisfied: certifi in c:\\users\\bhuva\\appdata\\local\\programs\\python\\python310\\lib\\site-packages (from fiona>=1.8.21->geopandas) (2023.7.22)\n",
      "Requirement already satisfied: pytz>=2020.1 in c:\\users\\bhuva\\appdata\\local\\programs\\python\\python310\\lib\\site-packages (from pandas>=1.4.0->geopandas) (2022.5)\n",
      "Requirement already satisfied: python-dateutil>=2.8.1 in c:\\users\\bhuva\\appdata\\local\\programs\\python\\python310\\lib\\site-packages (from pandas>=1.4.0->geopandas) (2.8.2)\n",
      "Requirement already satisfied: numpy>=1.21.0 in c:\\users\\bhuva\\appdata\\local\\programs\\python\\python310\\lib\\site-packages (from pandas>=1.4.0->geopandas) (1.25.2)\n",
      "Requirement already satisfied: pyparsing!=3.0.5,>=2.0.2 in c:\\users\\bhuva\\appdata\\local\\programs\\python\\python310\\lib\\site-packages (from packaging->geopandas) (3.0.9)\n",
      "Requirement already satisfied: colorama in c:\\users\\bhuva\\appdata\\local\\programs\\python\\python310\\lib\\site-packages (from click~=8.0->fiona>=1.8.21->geopandas) (0.4.6)\n",
      "Note: you may need to restart the kernel to use updated packages.\n"
     ]
    },
    {
     "name": "stderr",
     "output_type": "stream",
     "text": [
      "\n",
      "[notice] A new release of pip available: 22.3.1 -> 24.2\n",
      "[notice] To update, run: python.exe -m pip install --upgrade pip\n"
     ]
    }
   ],
   "source": [
    "pip install geopandas"
   ]
  },
  {
   "cell_type": "code",
   "execution_count": 4,
   "id": "7ecf3173",
   "metadata": {
    "execution": {
     "iopub.execute_input": "2022-10-11T18:53:04.351467Z",
     "iopub.status.busy": "2022-10-11T18:53:04.351080Z",
     "iopub.status.idle": "2022-10-11T18:53:15.089809Z",
     "shell.execute_reply": "2022-10-11T18:53:15.088450Z"
    },
    "papermill": {
     "duration": 10.756008,
     "end_time": "2022-10-11T18:53:15.092386",
     "exception": false,
     "start_time": "2022-10-11T18:53:04.336378",
     "status": "completed"
    },
    "tags": []
   },
   "outputs": [
    {
     "name": "stdout",
     "output_type": "stream",
     "text": [
      "Requirement already satisfied: cartopy in c:\\users\\bhuva\\appdata\\local\\programs\\python\\python310\\lib\\site-packages (0.23.0)\n",
      "Requirement already satisfied: matplotlib>=3.5 in c:\\users\\bhuva\\appdata\\local\\programs\\python\\python310\\lib\\site-packages (from cartopy) (3.6.0)\n",
      "Requirement already satisfied: pyshp>=2.3 in c:\\users\\bhuva\\appdata\\local\\programs\\python\\python310\\lib\\site-packages (from cartopy) (2.3.1)\n",
      "Requirement already satisfied: pyproj>=3.3.1 in c:\\users\\bhuva\\appdata\\local\\programs\\python\\python310\\lib\\site-packages (from cartopy) (3.6.1)\n",
      "Requirement already satisfied: shapely>=1.7 in c:\\users\\bhuva\\appdata\\local\\programs\\python\\python310\\lib\\site-packages (from cartopy) (2.0.2)\n",
      "Requirement already satisfied: packaging>=20 in c:\\users\\bhuva\\appdata\\local\\programs\\python\\python310\\lib\\site-packages (from cartopy) (21.3)\n",
      "Requirement already satisfied: numpy>=1.21 in c:\\users\\bhuva\\appdata\\local\\programs\\python\\python310\\lib\\site-packages (from cartopy) (1.25.2)\n",
      "Requirement already satisfied: cycler>=0.10 in c:\\users\\bhuva\\appdata\\local\\programs\\python\\python310\\lib\\site-packages (from matplotlib>=3.5->cartopy) (0.11.0)\n",
      "Requirement already satisfied: pillow>=6.2.0 in c:\\users\\bhuva\\appdata\\local\\programs\\python\\python310\\lib\\site-packages (from matplotlib>=3.5->cartopy) (9.2.0)\n",
      "Requirement already satisfied: contourpy>=1.0.1 in c:\\users\\bhuva\\appdata\\local\\programs\\python\\python310\\lib\\site-packages (from matplotlib>=3.5->cartopy) (1.0.5)\n",
      "Requirement already satisfied: kiwisolver>=1.0.1 in c:\\users\\bhuva\\appdata\\local\\programs\\python\\python310\\lib\\site-packages (from matplotlib>=3.5->cartopy) (1.4.4)\n",
      "Requirement already satisfied: fonttools>=4.22.0 in c:\\users\\bhuva\\appdata\\local\\programs\\python\\python310\\lib\\site-packages (from matplotlib>=3.5->cartopy) (4.38.0)\n",
      "Requirement already satisfied: pyparsing>=2.2.1 in c:\\users\\bhuva\\appdata\\local\\programs\\python\\python310\\lib\\site-packages (from matplotlib>=3.5->cartopy) (3.0.9)\n",
      "Requirement already satisfied: python-dateutil>=2.7 in c:\\users\\bhuva\\appdata\\local\\programs\\python\\python310\\lib\\site-packages (from matplotlib>=3.5->cartopy) (2.8.2)\n",
      "Requirement already satisfied: certifi in c:\\users\\bhuva\\appdata\\local\\programs\\python\\python310\\lib\\site-packages (from pyproj>=3.3.1->cartopy) (2023.7.22)\n",
      "Requirement already satisfied: six>=1.5 in c:\\users\\bhuva\\appdata\\local\\programs\\python\\python310\\lib\\site-packages (from python-dateutil>=2.7->matplotlib>=3.5->cartopy) (1.16.0)\n",
      "Note: you may need to restart the kernel to use updated packages.\n"
     ]
    },
    {
     "name": "stderr",
     "output_type": "stream",
     "text": [
      "\n",
      "[notice] A new release of pip available: 22.3.1 -> 24.2\n",
      "[notice] To update, run: python.exe -m pip install --upgrade pip\n"
     ]
    }
   ],
   "source": [
    "pip install cartopy"
   ]
  },
  {
   "cell_type": "code",
   "execution_count": 5,
   "id": "63b504f9",
   "metadata": {
    "execution": {
     "iopub.execute_input": "2022-10-11T18:53:15.120483Z",
     "iopub.status.busy": "2022-10-11T18:53:15.120072Z",
     "iopub.status.idle": "2022-10-11T18:53:40.725834Z",
     "shell.execute_reply": "2022-10-11T18:53:40.724379Z"
    },
    "papermill": {
     "duration": 25.622716,
     "end_time": "2022-10-11T18:53:40.728298",
     "exception": false,
     "start_time": "2022-10-11T18:53:15.105582",
     "status": "completed"
    },
    "tags": []
   },
   "outputs": [
    {
     "name": "stdout",
     "output_type": "stream",
     "text": [
      "Collecting rioxarray\n",
      "  Downloading rioxarray-0.17.0-py3-none-any.whl (61 kB)\n",
      "     -------------------------------------- 61.0/61.0 kB 540.3 kB/s eta 0:00:00\n",
      "Requirement already satisfied: packaging in c:\\users\\bhuva\\appdata\\local\\programs\\python\\python310\\lib\\site-packages (from rioxarray) (21.3)\n",
      "Collecting rasterio>=1.3\n",
      "  Downloading rasterio-1.3.10-cp310-cp310-win_amd64.whl (24.3 MB)\n",
      "     ---------------------------------------- 24.3/24.3 MB 1.1 MB/s eta 0:00:00\n",
      "Requirement already satisfied: pyproj>=3.3 in c:\\users\\bhuva\\appdata\\local\\programs\\python\\python310\\lib\\site-packages (from rioxarray) (3.6.1)\n",
      "Requirement already satisfied: xarray>=2022.3.0 in c:\\users\\bhuva\\appdata\\local\\programs\\python\\python310\\lib\\site-packages (from rioxarray) (2023.12.0)\n",
      "Requirement already satisfied: numpy>=1.23 in c:\\users\\bhuva\\appdata\\local\\programs\\python\\python310\\lib\\site-packages (from rioxarray) (1.25.2)\n",
      "Requirement already satisfied: certifi in c:\\users\\bhuva\\appdata\\local\\programs\\python\\python310\\lib\\site-packages (from pyproj>=3.3->rioxarray) (2023.7.22)\n",
      "Requirement already satisfied: attrs in c:\\users\\bhuva\\appdata\\local\\programs\\python\\python310\\lib\\site-packages (from rasterio>=1.3->rioxarray) (23.1.0)\n",
      "Requirement already satisfied: click-plugins in c:\\users\\bhuva\\appdata\\local\\programs\\python\\python310\\lib\\site-packages (from rasterio>=1.3->rioxarray) (1.1.1)\n",
      "Requirement already satisfied: cligj>=0.5 in c:\\users\\bhuva\\appdata\\local\\programs\\python\\python310\\lib\\site-packages (from rasterio>=1.3->rioxarray) (0.7.2)\n",
      "Requirement already satisfied: setuptools in c:\\users\\bhuva\\appdata\\local\\programs\\python\\python310\\lib\\site-packages (from rasterio>=1.3->rioxarray) (65.5.0)\n",
      "Requirement already satisfied: click>=4.0 in c:\\users\\bhuva\\appdata\\local\\programs\\python\\python310\\lib\\site-packages (from rasterio>=1.3->rioxarray) (8.1.3)\n",
      "Collecting affine\n",
      "  Downloading affine-2.4.0-py3-none-any.whl (15 kB)\n",
      "Collecting snuggs>=1.4.1\n",
      "  Downloading snuggs-1.4.7-py3-none-any.whl (5.4 kB)\n",
      "Requirement already satisfied: pandas>=1.4 in c:\\users\\bhuva\\appdata\\local\\programs\\python\\python310\\lib\\site-packages (from xarray>=2022.3.0->rioxarray) (1.5.1)\n",
      "Requirement already satisfied: pyparsing!=3.0.5,>=2.0.2 in c:\\users\\bhuva\\appdata\\local\\programs\\python\\python310\\lib\\site-packages (from packaging->rioxarray) (3.0.9)\n",
      "Requirement already satisfied: colorama in c:\\users\\bhuva\\appdata\\local\\programs\\python\\python310\\lib\\site-packages (from click>=4.0->rasterio>=1.3->rioxarray) (0.4.6)\n",
      "Requirement already satisfied: pytz>=2020.1 in c:\\users\\bhuva\\appdata\\local\\programs\\python\\python310\\lib\\site-packages (from pandas>=1.4->xarray>=2022.3.0->rioxarray) (2022.5)\n",
      "Requirement already satisfied: python-dateutil>=2.8.1 in c:\\users\\bhuva\\appdata\\local\\programs\\python\\python310\\lib\\site-packages (from pandas>=1.4->xarray>=2022.3.0->rioxarray) (2.8.2)\n",
      "Requirement already satisfied: six>=1.5 in c:\\users\\bhuva\\appdata\\local\\programs\\python\\python310\\lib\\site-packages (from python-dateutil>=2.8.1->pandas>=1.4->xarray>=2022.3.0->rioxarray) (1.16.0)\n",
      "Installing collected packages: snuggs, affine, rasterio, rioxarray\n",
      "Successfully installed affine-2.4.0 rasterio-1.3.10 rioxarray-0.17.0 snuggs-1.4.7\n",
      "Note: you may need to restart the kernel to use updated packages.\n"
     ]
    },
    {
     "name": "stderr",
     "output_type": "stream",
     "text": [
      "\n",
      "[notice] A new release of pip available: 22.3.1 -> 24.2\n",
      "[notice] To update, run: python.exe -m pip install --upgrade pip\n"
     ]
    }
   ],
   "source": [
    "pip install rioxarray"
   ]
  },
  {
   "cell_type": "code",
   "execution_count": 6,
   "id": "ef864338",
   "metadata": {
    "execution": {
     "iopub.execute_input": "2022-10-11T18:53:40.759678Z",
     "iopub.status.busy": "2022-10-11T18:53:40.759284Z",
     "iopub.status.idle": "2022-10-11T18:53:51.838235Z",
     "shell.execute_reply": "2022-10-11T18:53:51.836401Z"
    },
    "papermill": {
     "duration": 11.097625,
     "end_time": "2022-10-11T18:53:51.840553",
     "exception": false,
     "start_time": "2022-10-11T18:53:40.742928",
     "status": "completed"
    },
    "tags": []
   },
   "outputs": [
    {
     "name": "stdout",
     "output_type": "stream",
     "text": [
      "Note: you may need to restart the kernel to use updated packages.Collecting earthpy\n",
      "  Downloading earthpy-0.9.4-py3-none-any.whl (1.4 MB)\n",
      "     ---------------------------------------- 1.4/1.4 MB 1.3 MB/s eta 0:00:00\n",
      "Requirement already satisfied: geopandas in c:\\users\\bhuva\\appdata\\local\\programs\\python\\python310\\lib\\site-packages (from earthpy) (0.14.1)\n",
      "Requirement already satisfied: scikit-image in c:\\users\\bhuva\\appdata\\local\\programs\\python\\python310\\lib\\site-packages (from earthpy) (0.24.0)\n",
      "Requirement already satisfied: rasterio in c:\\users\\bhuva\\appdata\\local\\programs\\python\\python310\\lib\\site-packages (from earthpy) (1.3.10)\n",
      "Requirement already satisfied: matplotlib>=2.0.0 in c:\\users\\bhuva\\appdata\\local\\programs\\python\\python310\\lib\\site-packages (from earthpy) (3.6.0)\n",
      "Requirement already satisfied: requests in c:\\users\\bhuva\\appdata\\local\\programs\\python\\python310\\lib\\site-packages (from earthpy) (2.31.0)\n",
      "Requirement already satisfied: numpy>=1.14.0 in c:\\users\\bhuva\\appdata\\local\\programs\\python\\python310\\lib\\site-packages (from earthpy) (1.25.2)\n",
      "Requirement already satisfied: pyparsing>=2.2.1 in c:\\users\\bhuva\\appdata\\local\\programs\\python\\python310\\lib\\site-packages (from matplotlib>=2.0.0->earthpy) (3.0.9)\n",
      "Requirement already satisfied: cycler>=0.10 in c:\\users\\bhuva\\appdata\\local\\programs\\python\\python310\\lib\\site-packages (from matplotlib>=2.0.0->earthpy) (0.11.0)\n",
      "Requirement already satisfied: packaging>=20.0 in c:\\users\\bhuva\\appdata\\local\\programs\\python\\python310\\lib\\site-packages (from matplotlib>=2.0.0->earthpy) (21.3)\n",
      "Requirement already satisfied: contourpy>=1.0.1 in c:\\users\\bhuva\\appdata\\local\\programs\\python\\python310\\lib\\site-packages (from matplotlib>=2.0.0->earthpy) (1.0.5)\n",
      "Requirement already satisfied: python-dateutil>=2.7 in c:\\users\\bhuva\\appdata\\local\\programs\\python\\python310\\lib\\site-packages (from matplotlib>=2.0.0->earthpy) (2.8.2)\n",
      "Requirement already satisfied: kiwisolver>=1.0.1 in c:\\users\\bhuva\\appdata\\local\\programs\\python\\python310\\lib\\site-packages (from matplotlib>=2.0.0->earthpy) (1.4.4)\n",
      "Requirement already satisfied: fonttools>=4.22.0 in c:\\users\\bhuva\\appdata\\local\\programs\\python\\python310\\lib\\site-packages (from matplotlib>=2.0.0->earthpy) (4.38.0)\n",
      "Requirement already satisfied: pillow>=6.2.0 in c:\\users\\bhuva\\appdata\\local\\programs\\python\\python310\\lib\\site-packages (from matplotlib>=2.0.0->earthpy) (9.2.0)\n",
      "Requirement already satisfied: fiona>=1.8.21 in c:\\users\\bhuva\\appdata\\local\\programs\\python\\python310\\lib\\site-packages (from geopandas->earthpy) (1.9.5)\n",
      "Requirement already satisfied: shapely>=1.8.0 in c:\\users\\bhuva\\appdata\\local\\programs\\python\\python310\\lib\\site-packages (from geopandas->earthpy) (2.0.2)\n",
      "Requirement already satisfied: pandas>=1.4.0 in c:\\users\\bhuva\\appdata\\local\\programs\\python\\python310\\lib\\site-packages (from geopandas->earthpy) (1.5.1)\n",
      "Requirement already satisfied: pyproj>=3.3.0 in c:\\users\\bhuva\\appdata\\local\\programs\\python\\python310\\lib\\site-packages (from geopandas->earthpy) (3.6.1)\n",
      "Requirement already satisfied: setuptools in c:\\users\\bhuva\\appdata\\local\\programs\\python\\python310\\lib\\site-packages (from rasterio->earthpy) (65.5.0)\n",
      "Requirement already satisfied: attrs in c:\\users\\bhuva\\appdata\\local\\programs\\python\\python310\\lib\\site-packages (from rasterio->earthpy) (23.1.0)\n",
      "Requirement already satisfied: affine in c:\\users\\bhuva\\appdata\\local\\programs\\python\\python310\\lib\\site-packages (from rasterio->earthpy) (2.4.0)\n",
      "Requirement already satisfied: click>=4.0 in c:\\users\\bhuva\\appdata\\local\\programs\\python\\python310\\lib\\site-packages (from rasterio->earthpy) (8.1.3)\n",
      "Requirement already satisfied: certifi in c:\\users\\bhuva\\appdata\\local\\programs\\python\\python310\\lib\\site-packages (from rasterio->earthpy) (2023.7.22)\n",
      "Requirement already satisfied: click-plugins in c:\\users\\bhuva\\appdata\\local\\programs\\python\\python310\\lib\\site-packages (from rasterio->earthpy) (1.1.1)\n",
      "Requirement already satisfied: snuggs>=1.4.1 in c:\\users\\bhuva\\appdata\\local\\programs\\python\\python310\\lib\\site-packages (from rasterio->earthpy) (1.4.7)\n",
      "Requirement already satisfied: cligj>=0.5 in c:\\users\\bhuva\\appdata\\local\\programs\\python\\python310\\lib\\site-packages (from rasterio->earthpy) (0.7.2)\n",
      "Requirement already satisfied: charset-normalizer<4,>=2 in c:\\users\\bhuva\\appdata\\local\\programs\\python\\python310\\lib\\site-packages (from requests->earthpy) (3.2.0)\n",
      "Requirement already satisfied: idna<4,>=2.5 in c:\\users\\bhuva\\appdata\\local\\programs\\python\\python310\\lib\\site-packages (from requests->earthpy) (3.4)\n",
      "Requirement already satisfied: urllib3<3,>=1.21.1 in c:\\users\\bhuva\\appdata\\local\\programs\\python\\python310\\lib\\site-packages (from requests->earthpy) (2.0.4)\n",
      "Requirement already satisfied: imageio>=2.33 in c:\\users\\bhuva\\appdata\\local\\programs\\python\\python310\\lib\\site-packages (from scikit-image->earthpy) (2.35.0)\n",
      "Requirement already satisfied: tifffile>=2022.8.12 in c:\\users\\bhuva\\appdata\\local\\programs\\python\\python310\\lib\\site-packages (from scikit-image->earthpy) (2024.8.10)\n",
      "Requirement already satisfied: networkx>=2.8 in c:\\users\\bhuva\\appdata\\local\\programs\\python\\python310\\lib\\site-packages (from scikit-image->earthpy) (3.3)\n",
      "Requirement already satisfied: scipy>=1.9 in c:\\users\\bhuva\\appdata\\local\\programs\\python\\python310\\lib\\site-packages (from scikit-image->earthpy) (1.9.3)\n",
      "Requirement already satisfied: lazy-loader>=0.4 in c:\\users\\bhuva\\appdata\\local\\programs\\python\\python310\\lib\\site-packages (from scikit-image->earthpy) (0.4)\n",
      "Requirement already satisfied: colorama in c:\\users\\bhuva\\appdata\\local\\programs\\python\\python310\\lib\\site-packages (from click>=4.0->rasterio->earthpy) (0.4.6)\n",
      "Requirement already satisfied: six in c:\\users\\bhuva\\appdata\\local\\programs\\python\\python310\\lib\\site-packages (from fiona>=1.8.21->geopandas->earthpy) (1.16.0)\n",
      "Requirement already satisfied: pytz>=2020.1 in c:\\users\\bhuva\\appdata\\local\\programs\\python\\python310\\lib\\site-packages (from pandas>=1.4.0->geopandas->earthpy) (2022.5)\n",
      "Installing collected packages: earthpy\n",
      "Successfully installed earthpy-0.9.4\n",
      "\n"
     ]
    },
    {
     "name": "stderr",
     "output_type": "stream",
     "text": [
      "\n",
      "[notice] A new release of pip available: 22.3.1 -> 24.2\n",
      "[notice] To update, run: python.exe -m pip install --upgrade pip\n"
     ]
    }
   ],
   "source": [
    "pip install earthpy"
   ]
  },
  {
   "cell_type": "code",
   "execution_count": 7,
   "id": "fd445948",
   "metadata": {
    "execution": {
     "iopub.execute_input": "2022-10-11T18:53:51.874512Z",
     "iopub.status.busy": "2022-10-11T18:53:51.873382Z",
     "iopub.status.idle": "2022-10-11T18:54:02.566249Z",
     "shell.execute_reply": "2022-10-11T18:54:02.564830Z"
    },
    "papermill": {
     "duration": 10.712792,
     "end_time": "2022-10-11T18:54:02.569069",
     "exception": false,
     "start_time": "2022-10-11T18:53:51.856277",
     "status": "completed"
    },
    "tags": []
   },
   "outputs": [
    {
     "name": "stdout",
     "output_type": "stream",
     "text": [
      "Requirement already satisfied: shapely in c:\\users\\bhuva\\appdata\\local\\programs\\python\\python310\\lib\\site-packages (2.0.2)\n",
      "Requirement already satisfied: numpy>=1.14 in c:\\users\\bhuva\\appdata\\local\\programs\\python\\python310\\lib\\site-packages (from shapely) (1.25.2)\n"
     ]
    },
    {
     "name": "stderr",
     "output_type": "stream",
     "text": [
      "DEPRECATION: --no-binary currently disables reading from the cache of locally built wheels. In the future --no-binary will not influence the wheel cache. pip 23.1 will enforce this behaviour change. A possible replacement is to use the --no-cache-dir option. You can use the flag --use-feature=no-binary-enable-wheel-cache to test the upcoming behaviour. Discussion can be found at https://github.com/pypa/pip/issues/11453\n",
      "\n",
      "[notice] A new release of pip available: 22.3.1 -> 24.2\n",
      "[notice] To update, run: python.exe -m pip install --upgrade pip\n"
     ]
    }
   ],
   "source": [
    "%pip install shapely --no-binary shapely"
   ]
  },
  {
   "cell_type": "code",
   "execution_count": 9,
   "id": "208c20f0",
   "metadata": {
    "execution": {
     "iopub.execute_input": "2022-10-11T18:54:02.603353Z",
     "iopub.status.busy": "2022-10-11T18:54:02.602542Z",
     "iopub.status.idle": "2022-10-11T18:54:05.938799Z",
     "shell.execute_reply": "2022-10-11T18:54:05.937545Z"
    },
    "papermill": {
     "duration": 3.356095,
     "end_time": "2022-10-11T18:54:05.941295",
     "exception": false,
     "start_time": "2022-10-11T18:54:02.585200",
     "status": "completed"
    },
    "tags": []
   },
   "outputs": [],
   "source": [
    "import os\n",
    "\n",
    "import numpy as np\n",
    "import pandas as pd\n",
    "import matplotlib.pyplot as plt\n",
    "\n",
    "from sklearn.ensemble import RandomForestRegressor\n",
    "from xgboost import XGBRegressor\n",
    "from statsmodels.tsa.seasonal import seasonal_decompose\n",
    "# netCDF4 needs to be installed in your environment for this to work\n",
    "import xarray as xr\n",
    "import rioxarray as rxr\n",
    "import cartopy.crs as ccrs\n",
    "import cartopy.feature as cfeature\n",
    "import seaborn as sns\n",
    "import geopandas as gpd\n",
    "import earthpy as et\n",
    "from netCDF4 import date2index\n",
    "from datetime import datetime\n",
    "from netCDF4 import Dataset\n",
    "\n",
    "# Plotting options\n",
    "sns.set(font_scale=1.3)\n",
    "sns.set_style(\"white\")\n"
   ]
  },
  {
   "cell_type": "code",
   "execution_count": 10,
   "id": "fd775005",
   "metadata": {
    "execution": {
     "iopub.execute_input": "2022-10-11T18:54:05.974270Z",
     "iopub.status.busy": "2022-10-11T18:54:05.973853Z",
     "iopub.status.idle": "2022-10-11T18:54:06.154511Z",
     "shell.execute_reply": "2022-10-11T18:54:06.153451Z"
    },
    "papermill": {
     "duration": 0.199866,
     "end_time": "2022-10-11T18:54:06.156910",
     "exception": false,
     "start_time": "2022-10-11T18:54:05.957044",
     "status": "completed"
    },
    "tags": []
   },
   "outputs": [],
   "source": [
    "filename = \"D:\\\\nowcasting\\\\IMDDataset\\\\RF25_ind2020_rfp25.nc\"\n",
    "data = xr.open_dataset(filename)  "
   ]
  },
  {
   "cell_type": "code",
   "execution_count": 11,
   "id": "fda13286",
   "metadata": {
    "execution": {
     "iopub.execute_input": "2022-10-11T18:54:06.192615Z",
     "iopub.status.busy": "2022-10-11T18:54:06.191692Z",
     "iopub.status.idle": "2022-10-11T18:54:06.219401Z",
     "shell.execute_reply": "2022-10-11T18:54:06.218603Z"
    },
    "papermill": {
     "duration": 0.04714,
     "end_time": "2022-10-11T18:54:06.221558",
     "exception": false,
     "start_time": "2022-10-11T18:54:06.174418",
     "status": "completed"
    },
    "tags": []
   },
   "outputs": [
    {
     "data": {
      "text/html": [
       "<div><svg style=\"position: absolute; width: 0; height: 0; overflow: hidden\">\n",
       "<defs>\n",
       "<symbol id=\"icon-database\" viewBox=\"0 0 32 32\">\n",
       "<path d=\"M16 0c-8.837 0-16 2.239-16 5v4c0 2.761 7.163 5 16 5s16-2.239 16-5v-4c0-2.761-7.163-5-16-5z\"></path>\n",
       "<path d=\"M16 17c-8.837 0-16-2.239-16-5v6c0 2.761 7.163 5 16 5s16-2.239 16-5v-6c0 2.761-7.163 5-16 5z\"></path>\n",
       "<path d=\"M16 26c-8.837 0-16-2.239-16-5v6c0 2.761 7.163 5 16 5s16-2.239 16-5v-6c0 2.761-7.163 5-16 5z\"></path>\n",
       "</symbol>\n",
       "<symbol id=\"icon-file-text2\" viewBox=\"0 0 32 32\">\n",
       "<path d=\"M28.681 7.159c-0.694-0.947-1.662-2.053-2.724-3.116s-2.169-2.030-3.116-2.724c-1.612-1.182-2.393-1.319-2.841-1.319h-15.5c-1.378 0-2.5 1.121-2.5 2.5v27c0 1.378 1.122 2.5 2.5 2.5h23c1.378 0 2.5-1.122 2.5-2.5v-19.5c0-0.448-0.137-1.23-1.319-2.841zM24.543 5.457c0.959 0.959 1.712 1.825 2.268 2.543h-4.811v-4.811c0.718 0.556 1.584 1.309 2.543 2.268zM28 29.5c0 0.271-0.229 0.5-0.5 0.5h-23c-0.271 0-0.5-0.229-0.5-0.5v-27c0-0.271 0.229-0.5 0.5-0.5 0 0 15.499-0 15.5 0v7c0 0.552 0.448 1 1 1h7v19.5z\"></path>\n",
       "<path d=\"M23 26h-14c-0.552 0-1-0.448-1-1s0.448-1 1-1h14c0.552 0 1 0.448 1 1s-0.448 1-1 1z\"></path>\n",
       "<path d=\"M23 22h-14c-0.552 0-1-0.448-1-1s0.448-1 1-1h14c0.552 0 1 0.448 1 1s-0.448 1-1 1z\"></path>\n",
       "<path d=\"M23 18h-14c-0.552 0-1-0.448-1-1s0.448-1 1-1h14c0.552 0 1 0.448 1 1s-0.448 1-1 1z\"></path>\n",
       "</symbol>\n",
       "</defs>\n",
       "</svg>\n",
       "<style>/* CSS stylesheet for displaying xarray objects in jupyterlab.\n",
       " *\n",
       " */\n",
       "\n",
       ":root {\n",
       "  --xr-font-color0: var(--jp-content-font-color0, rgba(0, 0, 0, 1));\n",
       "  --xr-font-color2: var(--jp-content-font-color2, rgba(0, 0, 0, 0.54));\n",
       "  --xr-font-color3: var(--jp-content-font-color3, rgba(0, 0, 0, 0.38));\n",
       "  --xr-border-color: var(--jp-border-color2, #e0e0e0);\n",
       "  --xr-disabled-color: var(--jp-layout-color3, #bdbdbd);\n",
       "  --xr-background-color: var(--jp-layout-color0, white);\n",
       "  --xr-background-color-row-even: var(--jp-layout-color1, white);\n",
       "  --xr-background-color-row-odd: var(--jp-layout-color2, #eeeeee);\n",
       "}\n",
       "\n",
       "html[theme=dark],\n",
       "body[data-theme=dark],\n",
       "body.vscode-dark {\n",
       "  --xr-font-color0: rgba(255, 255, 255, 1);\n",
       "  --xr-font-color2: rgba(255, 255, 255, 0.54);\n",
       "  --xr-font-color3: rgba(255, 255, 255, 0.38);\n",
       "  --xr-border-color: #1F1F1F;\n",
       "  --xr-disabled-color: #515151;\n",
       "  --xr-background-color: #111111;\n",
       "  --xr-background-color-row-even: #111111;\n",
       "  --xr-background-color-row-odd: #313131;\n",
       "}\n",
       "\n",
       ".xr-wrap {\n",
       "  display: block !important;\n",
       "  min-width: 300px;\n",
       "  max-width: 700px;\n",
       "}\n",
       "\n",
       ".xr-text-repr-fallback {\n",
       "  /* fallback to plain text repr when CSS is not injected (untrusted notebook) */\n",
       "  display: none;\n",
       "}\n",
       "\n",
       ".xr-header {\n",
       "  padding-top: 6px;\n",
       "  padding-bottom: 6px;\n",
       "  margin-bottom: 4px;\n",
       "  border-bottom: solid 1px var(--xr-border-color);\n",
       "}\n",
       "\n",
       ".xr-header > div,\n",
       ".xr-header > ul {\n",
       "  display: inline;\n",
       "  margin-top: 0;\n",
       "  margin-bottom: 0;\n",
       "}\n",
       "\n",
       ".xr-obj-type,\n",
       ".xr-array-name {\n",
       "  margin-left: 2px;\n",
       "  margin-right: 10px;\n",
       "}\n",
       "\n",
       ".xr-obj-type {\n",
       "  color: var(--xr-font-color2);\n",
       "}\n",
       "\n",
       ".xr-sections {\n",
       "  padding-left: 0 !important;\n",
       "  display: grid;\n",
       "  grid-template-columns: 150px auto auto 1fr 20px 20px;\n",
       "}\n",
       "\n",
       ".xr-section-item {\n",
       "  display: contents;\n",
       "}\n",
       "\n",
       ".xr-section-item input {\n",
       "  display: none;\n",
       "}\n",
       "\n",
       ".xr-section-item input + label {\n",
       "  color: var(--xr-disabled-color);\n",
       "}\n",
       "\n",
       ".xr-section-item input:enabled + label {\n",
       "  cursor: pointer;\n",
       "  color: var(--xr-font-color2);\n",
       "}\n",
       "\n",
       ".xr-section-item input:enabled + label:hover {\n",
       "  color: var(--xr-font-color0);\n",
       "}\n",
       "\n",
       ".xr-section-summary {\n",
       "  grid-column: 1;\n",
       "  color: var(--xr-font-color2);\n",
       "  font-weight: 500;\n",
       "}\n",
       "\n",
       ".xr-section-summary > span {\n",
       "  display: inline-block;\n",
       "  padding-left: 0.5em;\n",
       "}\n",
       "\n",
       ".xr-section-summary-in:disabled + label {\n",
       "  color: var(--xr-font-color2);\n",
       "}\n",
       "\n",
       ".xr-section-summary-in + label:before {\n",
       "  display: inline-block;\n",
       "  content: '►';\n",
       "  font-size: 11px;\n",
       "  width: 15px;\n",
       "  text-align: center;\n",
       "}\n",
       "\n",
       ".xr-section-summary-in:disabled + label:before {\n",
       "  color: var(--xr-disabled-color);\n",
       "}\n",
       "\n",
       ".xr-section-summary-in:checked + label:before {\n",
       "  content: '▼';\n",
       "}\n",
       "\n",
       ".xr-section-summary-in:checked + label > span {\n",
       "  display: none;\n",
       "}\n",
       "\n",
       ".xr-section-summary,\n",
       ".xr-section-inline-details {\n",
       "  padding-top: 4px;\n",
       "  padding-bottom: 4px;\n",
       "}\n",
       "\n",
       ".xr-section-inline-details {\n",
       "  grid-column: 2 / -1;\n",
       "}\n",
       "\n",
       ".xr-section-details {\n",
       "  display: none;\n",
       "  grid-column: 1 / -1;\n",
       "  margin-bottom: 5px;\n",
       "}\n",
       "\n",
       ".xr-section-summary-in:checked ~ .xr-section-details {\n",
       "  display: contents;\n",
       "}\n",
       "\n",
       ".xr-array-wrap {\n",
       "  grid-column: 1 / -1;\n",
       "  display: grid;\n",
       "  grid-template-columns: 20px auto;\n",
       "}\n",
       "\n",
       ".xr-array-wrap > label {\n",
       "  grid-column: 1;\n",
       "  vertical-align: top;\n",
       "}\n",
       "\n",
       ".xr-preview {\n",
       "  color: var(--xr-font-color3);\n",
       "}\n",
       "\n",
       ".xr-array-preview,\n",
       ".xr-array-data {\n",
       "  padding: 0 5px !important;\n",
       "  grid-column: 2;\n",
       "}\n",
       "\n",
       ".xr-array-data,\n",
       ".xr-array-in:checked ~ .xr-array-preview {\n",
       "  display: none;\n",
       "}\n",
       "\n",
       ".xr-array-in:checked ~ .xr-array-data,\n",
       ".xr-array-preview {\n",
       "  display: inline-block;\n",
       "}\n",
       "\n",
       ".xr-dim-list {\n",
       "  display: inline-block !important;\n",
       "  list-style: none;\n",
       "  padding: 0 !important;\n",
       "  margin: 0;\n",
       "}\n",
       "\n",
       ".xr-dim-list li {\n",
       "  display: inline-block;\n",
       "  padding: 0;\n",
       "  margin: 0;\n",
       "}\n",
       "\n",
       ".xr-dim-list:before {\n",
       "  content: '(';\n",
       "}\n",
       "\n",
       ".xr-dim-list:after {\n",
       "  content: ')';\n",
       "}\n",
       "\n",
       ".xr-dim-list li:not(:last-child):after {\n",
       "  content: ',';\n",
       "  padding-right: 5px;\n",
       "}\n",
       "\n",
       ".xr-has-index {\n",
       "  font-weight: bold;\n",
       "}\n",
       "\n",
       ".xr-var-list,\n",
       ".xr-var-item {\n",
       "  display: contents;\n",
       "}\n",
       "\n",
       ".xr-var-item > div,\n",
       ".xr-var-item label,\n",
       ".xr-var-item > .xr-var-name span {\n",
       "  background-color: var(--xr-background-color-row-even);\n",
       "  margin-bottom: 0;\n",
       "}\n",
       "\n",
       ".xr-var-item > .xr-var-name:hover span {\n",
       "  padding-right: 5px;\n",
       "}\n",
       "\n",
       ".xr-var-list > li:nth-child(odd) > div,\n",
       ".xr-var-list > li:nth-child(odd) > label,\n",
       ".xr-var-list > li:nth-child(odd) > .xr-var-name span {\n",
       "  background-color: var(--xr-background-color-row-odd);\n",
       "}\n",
       "\n",
       ".xr-var-name {\n",
       "  grid-column: 1;\n",
       "}\n",
       "\n",
       ".xr-var-dims {\n",
       "  grid-column: 2;\n",
       "}\n",
       "\n",
       ".xr-var-dtype {\n",
       "  grid-column: 3;\n",
       "  text-align: right;\n",
       "  color: var(--xr-font-color2);\n",
       "}\n",
       "\n",
       ".xr-var-preview {\n",
       "  grid-column: 4;\n",
       "}\n",
       "\n",
       ".xr-index-preview {\n",
       "  grid-column: 2 / 5;\n",
       "  color: var(--xr-font-color2);\n",
       "}\n",
       "\n",
       ".xr-var-name,\n",
       ".xr-var-dims,\n",
       ".xr-var-dtype,\n",
       ".xr-preview,\n",
       ".xr-attrs dt {\n",
       "  white-space: nowrap;\n",
       "  overflow: hidden;\n",
       "  text-overflow: ellipsis;\n",
       "  padding-right: 10px;\n",
       "}\n",
       "\n",
       ".xr-var-name:hover,\n",
       ".xr-var-dims:hover,\n",
       ".xr-var-dtype:hover,\n",
       ".xr-attrs dt:hover {\n",
       "  overflow: visible;\n",
       "  width: auto;\n",
       "  z-index: 1;\n",
       "}\n",
       "\n",
       ".xr-var-attrs,\n",
       ".xr-var-data,\n",
       ".xr-index-data {\n",
       "  display: none;\n",
       "  background-color: var(--xr-background-color) !important;\n",
       "  padding-bottom: 5px !important;\n",
       "}\n",
       "\n",
       ".xr-var-attrs-in:checked ~ .xr-var-attrs,\n",
       ".xr-var-data-in:checked ~ .xr-var-data,\n",
       ".xr-index-data-in:checked ~ .xr-index-data {\n",
       "  display: block;\n",
       "}\n",
       "\n",
       ".xr-var-data > table {\n",
       "  float: right;\n",
       "}\n",
       "\n",
       ".xr-var-name span,\n",
       ".xr-var-data,\n",
       ".xr-index-name div,\n",
       ".xr-index-data,\n",
       ".xr-attrs {\n",
       "  padding-left: 25px !important;\n",
       "}\n",
       "\n",
       ".xr-attrs,\n",
       ".xr-var-attrs,\n",
       ".xr-var-data,\n",
       ".xr-index-data {\n",
       "  grid-column: 1 / -1;\n",
       "}\n",
       "\n",
       "dl.xr-attrs {\n",
       "  padding: 0;\n",
       "  margin: 0;\n",
       "  display: grid;\n",
       "  grid-template-columns: 125px auto;\n",
       "}\n",
       "\n",
       ".xr-attrs dt,\n",
       ".xr-attrs dd {\n",
       "  padding: 0;\n",
       "  margin: 0;\n",
       "  float: left;\n",
       "  padding-right: 10px;\n",
       "  width: auto;\n",
       "}\n",
       "\n",
       ".xr-attrs dt {\n",
       "  font-weight: normal;\n",
       "  grid-column: 1;\n",
       "}\n",
       "\n",
       ".xr-attrs dt:hover span {\n",
       "  display: inline-block;\n",
       "  background: var(--xr-background-color);\n",
       "  padding-right: 10px;\n",
       "}\n",
       "\n",
       ".xr-attrs dd {\n",
       "  grid-column: 2;\n",
       "  white-space: pre-wrap;\n",
       "  word-break: break-all;\n",
       "}\n",
       "\n",
       ".xr-icon-database,\n",
       ".xr-icon-file-text2,\n",
       ".xr-no-icon {\n",
       "  display: inline-block;\n",
       "  vertical-align: middle;\n",
       "  width: 1em;\n",
       "  height: 1.5em !important;\n",
       "  stroke-width: 0;\n",
       "  stroke: currentColor;\n",
       "  fill: currentColor;\n",
       "}\n",
       "</style><pre class='xr-text-repr-fallback'>&lt;xarray.Dataset&gt;\n",
       "Dimensions:    (LONGITUDE: 135, LATITUDE: 129, TIME: 366)\n",
       "Coordinates:\n",
       "  * LONGITUDE  (LONGITUDE) float64 66.5 66.75 67.0 67.25 ... 99.5 99.75 100.0\n",
       "  * LATITUDE   (LATITUDE) float64 6.5 6.75 7.0 7.25 ... 37.75 38.0 38.25 38.5\n",
       "  * TIME       (TIME) datetime64[ns] 2020-01-01 2020-01-02 ... 2020-12-31\n",
       "Data variables:\n",
       "    RAINFALL   (TIME, LATITUDE, LONGITUDE) float64 ...\n",
       "Attributes:\n",
       "    history:      FERRET V7.5 (optimized) 20-Jan-23\n",
       "    Conventions:  CF-1.6</pre><div class='xr-wrap' style='display:none'><div class='xr-header'><div class='xr-obj-type'>xarray.Dataset</div></div><ul class='xr-sections'><li class='xr-section-item'><input id='section-ec1e4dfb-3ff1-4452-b814-197b9ea4361f' class='xr-section-summary-in' type='checkbox' disabled ><label for='section-ec1e4dfb-3ff1-4452-b814-197b9ea4361f' class='xr-section-summary'  title='Expand/collapse section'>Dimensions:</label><div class='xr-section-inline-details'><ul class='xr-dim-list'><li><span class='xr-has-index'>LONGITUDE</span>: 135</li><li><span class='xr-has-index'>LATITUDE</span>: 129</li><li><span class='xr-has-index'>TIME</span>: 366</li></ul></div><div class='xr-section-details'></div></li><li class='xr-section-item'><input id='section-95cb3b38-aefc-41a3-a231-59be9308e922' class='xr-section-summary-in' type='checkbox'  checked><label for='section-95cb3b38-aefc-41a3-a231-59be9308e922' class='xr-section-summary' >Coordinates: <span>(3)</span></label><div class='xr-section-inline-details'></div><div class='xr-section-details'><ul class='xr-var-list'><li class='xr-var-item'><div class='xr-var-name'><span class='xr-has-index'>LONGITUDE</span></div><div class='xr-var-dims'>(LONGITUDE)</div><div class='xr-var-dtype'>float64</div><div class='xr-var-preview xr-preview'>66.5 66.75 67.0 ... 99.75 100.0</div><input id='attrs-cfda85e5-e7e8-4722-8177-6475028be12e' class='xr-var-attrs-in' type='checkbox' ><label for='attrs-cfda85e5-e7e8-4722-8177-6475028be12e' title='Show/Hide attributes'><svg class='icon xr-icon-file-text2'><use xlink:href='#icon-file-text2'></use></svg></label><input id='data-bc831ace-8a95-4ba4-84df-b8ad4479cdd0' class='xr-var-data-in' type='checkbox'><label for='data-bc831ace-8a95-4ba4-84df-b8ad4479cdd0' title='Show/Hide data repr'><svg class='icon xr-icon-database'><use xlink:href='#icon-database'></use></svg></label><div class='xr-var-attrs'><dl class='xr-attrs'><dt><span>units :</span></dt><dd>degrees_east</dd><dt><span>point_spacing :</span></dt><dd>even</dd><dt><span>axis :</span></dt><dd>X</dd><dt><span>modulo :</span></dt><dd>360.0</dd><dt><span>standard_name :</span></dt><dd>longitude</dd></dl></div><div class='xr-var-data'><pre>array([ 66.5 ,  66.75,  67.  ,  67.25,  67.5 ,  67.75,  68.  ,  68.25,  68.5 ,\n",
       "        68.75,  69.  ,  69.25,  69.5 ,  69.75,  70.  ,  70.25,  70.5 ,  70.75,\n",
       "        71.  ,  71.25,  71.5 ,  71.75,  72.  ,  72.25,  72.5 ,  72.75,  73.  ,\n",
       "        73.25,  73.5 ,  73.75,  74.  ,  74.25,  74.5 ,  74.75,  75.  ,  75.25,\n",
       "        75.5 ,  75.75,  76.  ,  76.25,  76.5 ,  76.75,  77.  ,  77.25,  77.5 ,\n",
       "        77.75,  78.  ,  78.25,  78.5 ,  78.75,  79.  ,  79.25,  79.5 ,  79.75,\n",
       "        80.  ,  80.25,  80.5 ,  80.75,  81.  ,  81.25,  81.5 ,  81.75,  82.  ,\n",
       "        82.25,  82.5 ,  82.75,  83.  ,  83.25,  83.5 ,  83.75,  84.  ,  84.25,\n",
       "        84.5 ,  84.75,  85.  ,  85.25,  85.5 ,  85.75,  86.  ,  86.25,  86.5 ,\n",
       "        86.75,  87.  ,  87.25,  87.5 ,  87.75,  88.  ,  88.25,  88.5 ,  88.75,\n",
       "        89.  ,  89.25,  89.5 ,  89.75,  90.  ,  90.25,  90.5 ,  90.75,  91.  ,\n",
       "        91.25,  91.5 ,  91.75,  92.  ,  92.25,  92.5 ,  92.75,  93.  ,  93.25,\n",
       "        93.5 ,  93.75,  94.  ,  94.25,  94.5 ,  94.75,  95.  ,  95.25,  95.5 ,\n",
       "        95.75,  96.  ,  96.25,  96.5 ,  96.75,  97.  ,  97.25,  97.5 ,  97.75,\n",
       "        98.  ,  98.25,  98.5 ,  98.75,  99.  ,  99.25,  99.5 ,  99.75, 100.  ])</pre></div></li><li class='xr-var-item'><div class='xr-var-name'><span class='xr-has-index'>LATITUDE</span></div><div class='xr-var-dims'>(LATITUDE)</div><div class='xr-var-dtype'>float64</div><div class='xr-var-preview xr-preview'>6.5 6.75 7.0 ... 38.0 38.25 38.5</div><input id='attrs-d25dfb6a-5a4f-4315-984c-cadfa0ead5fe' class='xr-var-attrs-in' type='checkbox' ><label for='attrs-d25dfb6a-5a4f-4315-984c-cadfa0ead5fe' title='Show/Hide attributes'><svg class='icon xr-icon-file-text2'><use xlink:href='#icon-file-text2'></use></svg></label><input id='data-86d324fb-5d40-4e1e-a339-14a81e0c92ff' class='xr-var-data-in' type='checkbox'><label for='data-86d324fb-5d40-4e1e-a339-14a81e0c92ff' title='Show/Hide data repr'><svg class='icon xr-icon-database'><use xlink:href='#icon-database'></use></svg></label><div class='xr-var-attrs'><dl class='xr-attrs'><dt><span>units :</span></dt><dd>degrees_north</dd><dt><span>point_spacing :</span></dt><dd>even</dd><dt><span>axis :</span></dt><dd>Y</dd><dt><span>standard_name :</span></dt><dd>latitude</dd></dl></div><div class='xr-var-data'><pre>array([ 6.5 ,  6.75,  7.  ,  7.25,  7.5 ,  7.75,  8.  ,  8.25,  8.5 ,  8.75,\n",
       "        9.  ,  9.25,  9.5 ,  9.75, 10.  , 10.25, 10.5 , 10.75, 11.  , 11.25,\n",
       "       11.5 , 11.75, 12.  , 12.25, 12.5 , 12.75, 13.  , 13.25, 13.5 , 13.75,\n",
       "       14.  , 14.25, 14.5 , 14.75, 15.  , 15.25, 15.5 , 15.75, 16.  , 16.25,\n",
       "       16.5 , 16.75, 17.  , 17.25, 17.5 , 17.75, 18.  , 18.25, 18.5 , 18.75,\n",
       "       19.  , 19.25, 19.5 , 19.75, 20.  , 20.25, 20.5 , 20.75, 21.  , 21.25,\n",
       "       21.5 , 21.75, 22.  , 22.25, 22.5 , 22.75, 23.  , 23.25, 23.5 , 23.75,\n",
       "       24.  , 24.25, 24.5 , 24.75, 25.  , 25.25, 25.5 , 25.75, 26.  , 26.25,\n",
       "       26.5 , 26.75, 27.  , 27.25, 27.5 , 27.75, 28.  , 28.25, 28.5 , 28.75,\n",
       "       29.  , 29.25, 29.5 , 29.75, 30.  , 30.25, 30.5 , 30.75, 31.  , 31.25,\n",
       "       31.5 , 31.75, 32.  , 32.25, 32.5 , 32.75, 33.  , 33.25, 33.5 , 33.75,\n",
       "       34.  , 34.25, 34.5 , 34.75, 35.  , 35.25, 35.5 , 35.75, 36.  , 36.25,\n",
       "       36.5 , 36.75, 37.  , 37.25, 37.5 , 37.75, 38.  , 38.25, 38.5 ])</pre></div></li><li class='xr-var-item'><div class='xr-var-name'><span class='xr-has-index'>TIME</span></div><div class='xr-var-dims'>(TIME)</div><div class='xr-var-dtype'>datetime64[ns]</div><div class='xr-var-preview xr-preview'>2020-01-01 ... 2020-12-31</div><input id='attrs-a39adc6f-b1bf-4cf7-b08b-518caada2d53' class='xr-var-attrs-in' type='checkbox' ><label for='attrs-a39adc6f-b1bf-4cf7-b08b-518caada2d53' title='Show/Hide attributes'><svg class='icon xr-icon-file-text2'><use xlink:href='#icon-file-text2'></use></svg></label><input id='data-10fe338c-d128-4224-af5a-532a19896b60' class='xr-var-data-in' type='checkbox'><label for='data-10fe338c-d128-4224-af5a-532a19896b60' title='Show/Hide data repr'><svg class='icon xr-icon-database'><use xlink:href='#icon-database'></use></svg></label><div class='xr-var-attrs'><dl class='xr-attrs'><dt><span>axis :</span></dt><dd>T</dd><dt><span>time_origin :</span></dt><dd>31-DEC-1900</dd><dt><span>standard_name :</span></dt><dd>time</dd></dl></div><div class='xr-var-data'><pre>array([&#x27;2020-01-01T00:00:00.000000000&#x27;, &#x27;2020-01-02T00:00:00.000000000&#x27;,\n",
       "       &#x27;2020-01-03T00:00:00.000000000&#x27;, ..., &#x27;2020-12-29T00:00:00.000000000&#x27;,\n",
       "       &#x27;2020-12-30T00:00:00.000000000&#x27;, &#x27;2020-12-31T00:00:00.000000000&#x27;],\n",
       "      dtype=&#x27;datetime64[ns]&#x27;)</pre></div></li></ul></div></li><li class='xr-section-item'><input id='section-f11fbfae-fd91-40e1-b75d-157d4f6cd959' class='xr-section-summary-in' type='checkbox'  checked><label for='section-f11fbfae-fd91-40e1-b75d-157d4f6cd959' class='xr-section-summary' >Data variables: <span>(1)</span></label><div class='xr-section-inline-details'></div><div class='xr-section-details'><ul class='xr-var-list'><li class='xr-var-item'><div class='xr-var-name'><span>RAINFALL</span></div><div class='xr-var-dims'>(TIME, LATITUDE, LONGITUDE)</div><div class='xr-var-dtype'>float64</div><div class='xr-var-preview xr-preview'>...</div><input id='attrs-4c4ef3c6-b7fb-4e50-b9fd-81e59989278a' class='xr-var-attrs-in' type='checkbox' ><label for='attrs-4c4ef3c6-b7fb-4e50-b9fd-81e59989278a' title='Show/Hide attributes'><svg class='icon xr-icon-file-text2'><use xlink:href='#icon-file-text2'></use></svg></label><input id='data-8f7a68a6-8d37-4bdb-a541-bb4fd6469835' class='xr-var-data-in' type='checkbox'><label for='data-8f7a68a6-8d37-4bdb-a541-bb4fd6469835' title='Show/Hide data repr'><svg class='icon xr-icon-database'><use xlink:href='#icon-database'></use></svg></label><div class='xr-var-attrs'><dl class='xr-attrs'><dt><span>long_name :</span></dt><dd>Rainfall</dd><dt><span>units :</span></dt><dd>mm</dd><dt><span>history :</span></dt><dd>From ind2020_rfp25.grd</dd></dl></div><div class='xr-var-data'><pre>[6373890 values with dtype=float64]</pre></div></li></ul></div></li><li class='xr-section-item'><input id='section-3ca81bc3-bbca-4f97-bd3c-32ea09f9d096' class='xr-section-summary-in' type='checkbox'  ><label for='section-3ca81bc3-bbca-4f97-bd3c-32ea09f9d096' class='xr-section-summary' >Indexes: <span>(3)</span></label><div class='xr-section-inline-details'></div><div class='xr-section-details'><ul class='xr-var-list'><li class='xr-var-item'><div class='xr-index-name'><div>LONGITUDE</div></div><div class='xr-index-preview'>PandasIndex</div><div></div><input id='index-d95e5a43-3a52-4744-8d77-999c0b002ff0' class='xr-index-data-in' type='checkbox'/><label for='index-d95e5a43-3a52-4744-8d77-999c0b002ff0' title='Show/Hide index repr'><svg class='icon xr-icon-database'><use xlink:href='#icon-database'></use></svg></label><div class='xr-index-data'><pre>PandasIndex(Float64Index([ 66.5, 66.75,  67.0, 67.25,  67.5, 67.75,  68.0, 68.25,  68.5,\n",
       "              68.75,\n",
       "              ...\n",
       "              97.75,  98.0, 98.25,  98.5, 98.75,  99.0, 99.25,  99.5, 99.75,\n",
       "              100.0],\n",
       "             dtype=&#x27;float64&#x27;, name=&#x27;LONGITUDE&#x27;, length=135))</pre></div></li><li class='xr-var-item'><div class='xr-index-name'><div>LATITUDE</div></div><div class='xr-index-preview'>PandasIndex</div><div></div><input id='index-1268d741-24a4-4784-950e-f9656f838e59' class='xr-index-data-in' type='checkbox'/><label for='index-1268d741-24a4-4784-950e-f9656f838e59' title='Show/Hide index repr'><svg class='icon xr-icon-database'><use xlink:href='#icon-database'></use></svg></label><div class='xr-index-data'><pre>PandasIndex(Float64Index([  6.5,  6.75,   7.0,  7.25,   7.5,  7.75,   8.0,  8.25,   8.5,\n",
       "               8.75,\n",
       "              ...\n",
       "              36.25,  36.5, 36.75,  37.0, 37.25,  37.5, 37.75,  38.0, 38.25,\n",
       "               38.5],\n",
       "             dtype=&#x27;float64&#x27;, name=&#x27;LATITUDE&#x27;, length=129))</pre></div></li><li class='xr-var-item'><div class='xr-index-name'><div>TIME</div></div><div class='xr-index-preview'>PandasIndex</div><div></div><input id='index-6bd90894-d4b8-49ee-bcc4-ff18ba47cce2' class='xr-index-data-in' type='checkbox'/><label for='index-6bd90894-d4b8-49ee-bcc4-ff18ba47cce2' title='Show/Hide index repr'><svg class='icon xr-icon-database'><use xlink:href='#icon-database'></use></svg></label><div class='xr-index-data'><pre>PandasIndex(DatetimeIndex([&#x27;2020-01-01&#x27;, &#x27;2020-01-02&#x27;, &#x27;2020-01-03&#x27;, &#x27;2020-01-04&#x27;,\n",
       "               &#x27;2020-01-05&#x27;, &#x27;2020-01-06&#x27;, &#x27;2020-01-07&#x27;, &#x27;2020-01-08&#x27;,\n",
       "               &#x27;2020-01-09&#x27;, &#x27;2020-01-10&#x27;,\n",
       "               ...\n",
       "               &#x27;2020-12-22&#x27;, &#x27;2020-12-23&#x27;, &#x27;2020-12-24&#x27;, &#x27;2020-12-25&#x27;,\n",
       "               &#x27;2020-12-26&#x27;, &#x27;2020-12-27&#x27;, &#x27;2020-12-28&#x27;, &#x27;2020-12-29&#x27;,\n",
       "               &#x27;2020-12-30&#x27;, &#x27;2020-12-31&#x27;],\n",
       "              dtype=&#x27;datetime64[ns]&#x27;, name=&#x27;TIME&#x27;, length=366, freq=None))</pre></div></li></ul></div></li><li class='xr-section-item'><input id='section-f433af6f-0215-4ce1-b479-d162847e4051' class='xr-section-summary-in' type='checkbox'  checked><label for='section-f433af6f-0215-4ce1-b479-d162847e4051' class='xr-section-summary' >Attributes: <span>(2)</span></label><div class='xr-section-inline-details'></div><div class='xr-section-details'><dl class='xr-attrs'><dt><span>history :</span></dt><dd>FERRET V7.5 (optimized) 20-Jan-23</dd><dt><span>Conventions :</span></dt><dd>CF-1.6</dd></dl></div></li></ul></div></div>"
      ],
      "text/plain": [
       "<xarray.Dataset>\n",
       "Dimensions:    (LONGITUDE: 135, LATITUDE: 129, TIME: 366)\n",
       "Coordinates:\n",
       "  * LONGITUDE  (LONGITUDE) float64 66.5 66.75 67.0 67.25 ... 99.5 99.75 100.0\n",
       "  * LATITUDE   (LATITUDE) float64 6.5 6.75 7.0 7.25 ... 37.75 38.0 38.25 38.5\n",
       "  * TIME       (TIME) datetime64[ns] 2020-01-01 2020-01-02 ... 2020-12-31\n",
       "Data variables:\n",
       "    RAINFALL   (TIME, LATITUDE, LONGITUDE) float64 ...\n",
       "Attributes:\n",
       "    history:      FERRET V7.5 (optimized) 20-Jan-23\n",
       "    Conventions:  CF-1.6"
      ]
     },
     "execution_count": 11,
     "metadata": {},
     "output_type": "execute_result"
    }
   ],
   "source": [
    "data"
   ]
  },
  {
   "cell_type": "markdown",
   "id": "14c8b26b",
   "metadata": {
    "papermill": {
     "duration": 0.016104,
     "end_time": "2022-10-11T18:54:06.254332",
     "exception": false,
     "start_time": "2022-10-11T18:54:06.238228",
     "status": "completed"
    },
    "tags": []
   },
   "source": [
    "The data set has been taken from the open source website of the EEA-European Environmental Agency. The data set contains rainfall data from European countries. The data spans 10 years from 1st January 2011 to 31st December 2021 with 0.1 degrees and various Attributes, including timestamp, latitude, longitude, and rainfall. The unit of rainfall is millimeters per day. For each longitude latitude value, we have ‘4018’ time stamps. There are 705 longitude and latitude values. The range of latitude is from 25.049860721021005 to 71.4498588252096 and the range of longitude is from -24.950139509199722 to 45.449860209167724."
   ]
  },
  {
   "cell_type": "code",
   "execution_count": 13,
   "id": "5cb1216e",
   "metadata": {
    "execution": {
     "iopub.execute_input": "2022-10-11T18:54:06.289266Z",
     "iopub.status.busy": "2022-10-11T18:54:06.288522Z",
     "iopub.status.idle": "2022-10-11T18:54:06.294870Z",
     "shell.execute_reply": "2022-10-11T18:54:06.294117Z"
    },
    "papermill": {
     "duration": 0.026095,
     "end_time": "2022-10-11T18:54:06.296837",
     "exception": false,
     "start_time": "2022-10-11T18:54:06.270742",
     "status": "completed"
    },
    "tags": []
   },
   "outputs": [
    {
     "data": {
      "text/plain": [
       "array([6.5 , 6.75, 7.  , 7.25, 7.5 ])"
      ]
     },
     "execution_count": 13,
     "metadata": {},
     "output_type": "execute_result"
    }
   ],
   "source": [
    "# View first 5 latitude values\n",
    "data[\"RAINFALL\"][\"LATITUDE\"].values[:5]"
   ]
  },
  {
   "cell_type": "code",
   "execution_count": 14,
   "id": "0ba5b7fd",
   "metadata": {
    "execution": {
     "iopub.execute_input": "2022-10-11T18:54:06.331876Z",
     "iopub.status.busy": "2022-10-11T18:54:06.331235Z",
     "iopub.status.idle": "2022-10-11T18:54:06.338092Z",
     "shell.execute_reply": "2022-10-11T18:54:06.336924Z"
    },
    "papermill": {
     "duration": 0.026496,
     "end_time": "2022-10-11T18:54:06.340062",
     "exception": false,
     "start_time": "2022-10-11T18:54:06.313566",
     "status": "completed"
    },
    "tags": []
   },
   "outputs": [
    {
     "name": "stdout",
     "output_type": "stream",
     "text": [
      "The min and max latitude values in the data is: 6.5 38.5\n",
      "The min and max longitude values in the data is: 66.5 100.0\n"
     ]
    }
   ],
   "source": [
    "print(\"The min and max latitude values in the data is:\", \n",
    "      data[\"RAINFALL\"][\"LATITUDE\"].values.min(), \n",
    "      data[\"RAINFALL\"][\"LATITUDE\"].values.max())\n",
    "print(\"The min and max longitude values in the data is:\", \n",
    "      data[\"RAINFALL\"][\"LONGITUDE\"].values.min(), \n",
    "      data[\"RAINFALL\"][\"LONGITUDE\"].values.max())"
   ]
  },
  {
   "cell_type": "code",
   "execution_count": 16,
   "id": "cda3d044",
   "metadata": {
    "execution": {
     "iopub.execute_input": "2022-10-11T18:54:06.375038Z",
     "iopub.status.busy": "2022-10-11T18:54:06.374616Z",
     "iopub.status.idle": "2022-10-11T18:54:06.380272Z",
     "shell.execute_reply": "2022-10-11T18:54:06.379486Z"
    },
    "papermill": {
     "duration": 0.025996,
     "end_time": "2022-10-11T18:54:06.382718",
     "exception": false,
     "start_time": "2022-10-11T18:54:06.356722",
     "status": "completed"
    },
    "tags": []
   },
   "outputs": [
    {
     "name": "stdout",
     "output_type": "stream",
     "text": [
      "The earliest date in the data is: 2020-01-01T00:00:00.000000000\n",
      "The latest date in the data is: 2020-12-31T00:00:00.000000000\n"
     ]
    }
   ],
   "source": [
    "# View first 5 and last. 5 time values - notice the span of\n",
    "# dates range from 2011 to 2021\n",
    "print(\"The earliest date in the data is:\", data[\"RAINFALL\"][\"TIME\"].values.min())\n",
    "print(\"The latest date in the data is:\", data[\"RAINFALL\"][\"TIME\"].values.max())   "
   ]
  },
  {
   "cell_type": "code",
   "execution_count": 17,
   "id": "7c56fcf3",
   "metadata": {
    "execution": {
     "iopub.execute_input": "2022-10-11T18:54:06.417905Z",
     "iopub.status.busy": "2022-10-11T18:54:06.417206Z",
     "iopub.status.idle": "2022-10-11T18:54:06.424132Z",
     "shell.execute_reply": "2022-10-11T18:54:06.422880Z"
    },
    "papermill": {
     "duration": 0.026799,
     "end_time": "2022-10-11T18:54:06.426216",
     "exception": false,
     "start_time": "2022-10-11T18:54:06.399417",
     "status": "completed"
    },
    "tags": []
   },
   "outputs": [
    {
     "data": {
      "text/plain": [
       "(366,)"
      ]
     },
     "execution_count": 17,
     "metadata": {},
     "output_type": "execute_result"
    }
   ],
   "source": [
    "data[\"RAINFALL\"][\"TIME\"].values.shape"
   ]
  },
  {
   "cell_type": "code",
   "execution_count": 25,
   "id": "5a2698ce",
   "metadata": {
    "execution": {
     "iopub.execute_input": "2022-10-11T18:54:06.461745Z",
     "iopub.status.busy": "2022-10-11T18:54:06.461335Z",
     "iopub.status.idle": "2022-10-11T18:54:06.468025Z",
     "shell.execute_reply": "2022-10-11T18:54:06.466865Z"
    },
    "papermill": {
     "duration": 0.027272,
     "end_time": "2022-10-11T18:54:06.470407",
     "exception": false,
     "start_time": "2022-10-11T18:54:06.443135",
     "status": "completed"
    },
    "tags": []
   },
   "outputs": [
    {
     "name": "stdout",
     "output_type": "stream",
     "text": [
      "Long, Lat values: 85.25 25.25\n"
     ]
    }
   ],
   "source": [
    "# Select a single x,y combination from the data\n",
    "key=75\n",
    "longitude = data[\"RAINFALL\"][\"LONGITUDE\"].values[key]\n",
    "latitude = data[\"RAINFALL\"][\"LATITUDE\"].values[key]\n",
    "\n",
    "print(\"Long, Lat values:\", longitude, latitude)"
   ]
  },
  {
   "cell_type": "code",
   "execution_count": 26,
   "id": "009a74e2",
   "metadata": {
    "execution": {
     "iopub.execute_input": "2022-10-11T18:54:06.506875Z",
     "iopub.status.busy": "2022-10-11T18:54:06.506471Z",
     "iopub.status.idle": "2022-10-11T18:54:09.232834Z",
     "shell.execute_reply": "2022-10-11T18:54:09.231844Z"
    },
    "papermill": {
     "duration": 2.746916,
     "end_time": "2022-10-11T18:54:09.234993",
     "exception": false,
     "start_time": "2022-10-11T18:54:06.488077",
     "status": "completed"
    },
    "tags": []
   },
   "outputs": [
    {
     "name": "stderr",
     "output_type": "stream",
     "text": [
      "c:\\Users\\bhuva\\AppData\\Local\\Programs\\Python\\Python310\\lib\\site-packages\\cartopy\\io\\__init__.py:241: DownloadWarning: Downloading: https://naturalearth.s3.amazonaws.com/50m_physical/ne_50m_land.zip\n",
      "  warnings.warn(f'Downloading: {url}', DownloadWarning)\n",
      "c:\\Users\\bhuva\\AppData\\Local\\Programs\\Python\\Python310\\lib\\site-packages\\cartopy\\io\\__init__.py:241: DownloadWarning: Downloading: https://naturalearth.s3.amazonaws.com/50m_physical/ne_50m_coastline.zip\n",
      "  warnings.warn(f'Downloading: {url}', DownloadWarning)\n"
     ]
    },
    {
     "data": {
      "image/png": "[encoded data removed]",
      "text/plain": [
       "<Figure size 1200x600 with 1 Axes>"
      ]
     },
     "metadata": {},
     "output_type": "display_data"
    }
   ],
   "source": [
    "# Create a spatial map of your selected location with cartopy\n",
    "\n",
    "# Set the spatial extent to cover the CONUS (Continental United States)\n",
    "extent = [66,100,6,38]\n",
    "central_lon = np.mean(extent[:2])\n",
    "central_lat = np.mean(extent[2:])\n",
    "\n",
    "# Create your figure and axis object\n",
    "# Albers equal area is a common CRS used to make maps of the Europe\n",
    "f, ax = plt.subplots(figsize=(12, 6),\n",
    "                     subplot_kw={'projection': ccrs.AlbersEqualArea(central_lon, central_lat)})\n",
    "ax.coastlines()\n",
    "# Plot the selected location\n",
    "ax.plot(longitude, latitude, \n",
    "        '*', \n",
    "        transform=ccrs.PlateCarree(),\n",
    "        color=\"purple\", \n",
    "        markersize=10)\n",
    "\n",
    "ax.set_extent(extent)\n",
    "ax.set(title=\"Location of the Latitude / Longitude Being Used To to Slice Your netcdf Climate Data File\")\n",
    "\n",
    "# Adds continent boundaries to the map\n",
    "ax.add_feature(cfeature.LAND, edgecolor='black')\n",
    "\n",
    "ax.gridlines()\n",
    "plt.show()"
   ]
  },
  {
   "cell_type": "markdown",
   "id": "9309f753",
   "metadata": {
    "papermill": {
     "duration": 0.018482,
     "end_time": "2022-10-11T18:54:09.272746",
     "exception": false,
     "start_time": "2022-10-11T18:54:09.254264",
     "status": "completed"
    },
    "tags": []
   },
   "source": [
    "The data preprocessing stage comprises three exercises: cleaning, standardization, and parting. In our dataset, we haven’t the missing information. I already discuss we have netCDF format which has time series data of all locations in Europe. In preprocessing the first stage in our case was to extract data from some fixed location. For allocating this location we chose the area which probably has the high rainfall in the historical data of the last ten year from 2011 to 2021. By fixing the value of longitude = 10.0498 and for latitude= 60.0498, I extracted the time series data of rainfall with 4018 rows. This place is near Oslo, Norway.  In figure 3, The steric mark is indicating the location of data used in this project.  \n",
    "The standardization method brings the property estimations inside a specific reach. These cleaning and standardization exercises help the relapse in getting the greatest exactness.\t"
   ]
  },
  {
   "cell_type": "code",
   "execution_count": 30,
   "id": "5d6a596f",
   "metadata": {
    "execution": {
     "iopub.execute_input": "2022-10-11T18:54:09.312294Z",
     "iopub.status.busy": "2022-10-11T18:54:09.311521Z",
     "iopub.status.idle": "2022-10-11T18:54:09.346339Z",
     "shell.execute_reply": "2022-10-11T18:54:09.345510Z"
    },
    "papermill": {
     "duration": 0.05682,
     "end_time": "2022-10-11T18:54:09.348365",
     "exception": false,
     "start_time": "2022-10-11T18:54:09.291545",
     "status": "completed"
    },
    "tags": []
   },
   "outputs": [
    {
     "data": {
      "text/html": [
       "<div><svg style=\"position: absolute; width: 0; height: 0; overflow: hidden\">\n",
       "<defs>\n",
       "<symbol id=\"icon-database\" viewBox=\"0 0 32 32\">\n",
       "<path d=\"M16 0c-8.837 0-16 2.239-16 5v4c0 2.761 7.163 5 16 5s16-2.239 16-5v-4c0-2.761-7.163-5-16-5z\"></path>\n",
       "<path d=\"M16 17c-8.837 0-16-2.239-16-5v6c0 2.761 7.163 5 16 5s16-2.239 16-5v-6c0 2.761-7.163 5-16 5z\"></path>\n",
       "<path d=\"M16 26c-8.837 0-16-2.239-16-5v6c0 2.761 7.163 5 16 5s16-2.239 16-5v-6c0 2.761-7.163 5-16 5z\"></path>\n",
       "</symbol>\n",
       "<symbol id=\"icon-file-text2\" viewBox=\"0 0 32 32\">\n",
       "<path d=\"M28.681 7.159c-0.694-0.947-1.662-2.053-2.724-3.116s-2.169-2.030-3.116-2.724c-1.612-1.182-2.393-1.319-2.841-1.319h-15.5c-1.378 0-2.5 1.121-2.5 2.5v27c0 1.378 1.122 2.5 2.5 2.5h23c1.378 0 2.5-1.122 2.5-2.5v-19.5c0-0.448-0.137-1.23-1.319-2.841zM24.543 5.457c0.959 0.959 1.712 1.825 2.268 2.543h-4.811v-4.811c0.718 0.556 1.584 1.309 2.543 2.268zM28 29.5c0 0.271-0.229 0.5-0.5 0.5h-23c-0.271 0-0.5-0.229-0.5-0.5v-27c0-0.271 0.229-0.5 0.5-0.5 0 0 15.499-0 15.5 0v7c0 0.552 0.448 1 1 1h7v19.5z\"></path>\n",
       "<path d=\"M23 26h-14c-0.552 0-1-0.448-1-1s0.448-1 1-1h14c0.552 0 1 0.448 1 1s-0.448 1-1 1z\"></path>\n",
       "<path d=\"M23 22h-14c-0.552 0-1-0.448-1-1s0.448-1 1-1h14c0.552 0 1 0.448 1 1s-0.448 1-1 1z\"></path>\n",
       "<path d=\"M23 18h-14c-0.552 0-1-0.448-1-1s0.448-1 1-1h14c0.552 0 1 0.448 1 1s-0.448 1-1 1z\"></path>\n",
       "</symbol>\n",
       "</defs>\n",
       "</svg>\n",
       "<style>/* CSS stylesheet for displaying xarray objects in jupyterlab.\n",
       " *\n",
       " */\n",
       "\n",
       ":root {\n",
       "  --xr-font-color0: var(--jp-content-font-color0, rgba(0, 0, 0, 1));\n",
       "  --xr-font-color2: var(--jp-content-font-color2, rgba(0, 0, 0, 0.54));\n",
       "  --xr-font-color3: var(--jp-content-font-color3, rgba(0, 0, 0, 0.38));\n",
       "  --xr-border-color: var(--jp-border-color2, #e0e0e0);\n",
       "  --xr-disabled-color: var(--jp-layout-color3, #bdbdbd);\n",
       "  --xr-background-color: var(--jp-layout-color0, white);\n",
       "  --xr-background-color-row-even: var(--jp-layout-color1, white);\n",
       "  --xr-background-color-row-odd: var(--jp-layout-color2, #eeeeee);\n",
       "}\n",
       "\n",
       "html[theme=dark],\n",
       "body[data-theme=dark],\n",
       "body.vscode-dark {\n",
       "  --xr-font-color0: rgba(255, 255, 255, 1);\n",
       "  --xr-font-color2: rgba(255, 255, 255, 0.54);\n",
       "  --xr-font-color3: rgba(255, 255, 255, 0.38);\n",
       "  --xr-border-color: #1F1F1F;\n",
       "  --xr-disabled-color: #515151;\n",
       "  --xr-background-color: #111111;\n",
       "  --xr-background-color-row-even: #111111;\n",
       "  --xr-background-color-row-odd: #313131;\n",
       "}\n",
       "\n",
       ".xr-wrap {\n",
       "  display: block !important;\n",
       "  min-width: 300px;\n",
       "  max-width: 700px;\n",
       "}\n",
       "\n",
       ".xr-text-repr-fallback {\n",
       "  /* fallback to plain text repr when CSS is not injected (untrusted notebook) */\n",
       "  display: none;\n",
       "}\n",
       "\n",
       ".xr-header {\n",
       "  padding-top: 6px;\n",
       "  padding-bottom: 6px;\n",
       "  margin-bottom: 4px;\n",
       "  border-bottom: solid 1px var(--xr-border-color);\n",
       "}\n",
       "\n",
       ".xr-header > div,\n",
       ".xr-header > ul {\n",
       "  display: inline;\n",
       "  margin-top: 0;\n",
       "  margin-bottom: 0;\n",
       "}\n",
       "\n",
       ".xr-obj-type,\n",
       ".xr-array-name {\n",
       "  margin-left: 2px;\n",
       "  margin-right: 10px;\n",
       "}\n",
       "\n",
       ".xr-obj-type {\n",
       "  color: var(--xr-font-color2);\n",
       "}\n",
       "\n",
       ".xr-sections {\n",
       "  padding-left: 0 !important;\n",
       "  display: grid;\n",
       "  grid-template-columns: 150px auto auto 1fr 20px 20px;\n",
       "}\n",
       "\n",
       ".xr-section-item {\n",
       "  display: contents;\n",
       "}\n",
       "\n",
       ".xr-section-item input {\n",
       "  display: none;\n",
       "}\n",
       "\n",
       ".xr-section-item input + label {\n",
       "  color: var(--xr-disabled-color);\n",
       "}\n",
       "\n",
       ".xr-section-item input:enabled + label {\n",
       "  cursor: pointer;\n",
       "  color: var(--xr-font-color2);\n",
       "}\n",
       "\n",
       ".xr-section-item input:enabled + label:hover {\n",
       "  color: var(--xr-font-color0);\n",
       "}\n",
       "\n",
       ".xr-section-summary {\n",
       "  grid-column: 1;\n",
       "  color: var(--xr-font-color2);\n",
       "  font-weight: 500;\n",
       "}\n",
       "\n",
       ".xr-section-summary > span {\n",
       "  display: inline-block;\n",
       "  padding-left: 0.5em;\n",
       "}\n",
       "\n",
       ".xr-section-summary-in:disabled + label {\n",
       "  color: var(--xr-font-color2);\n",
       "}\n",
       "\n",
       ".xr-section-summary-in + label:before {\n",
       "  display: inline-block;\n",
       "  content: '►';\n",
       "  font-size: 11px;\n",
       "  width: 15px;\n",
       "  text-align: center;\n",
       "}\n",
       "\n",
       ".xr-section-summary-in:disabled + label:before {\n",
       "  color: var(--xr-disabled-color);\n",
       "}\n",
       "\n",
       ".xr-section-summary-in:checked + label:before {\n",
       "  content: '▼';\n",
       "}\n",
       "\n",
       ".xr-section-summary-in:checked + label > span {\n",
       "  display: none;\n",
       "}\n",
       "\n",
       ".xr-section-summary,\n",
       ".xr-section-inline-details {\n",
       "  padding-top: 4px;\n",
       "  padding-bottom: 4px;\n",
       "}\n",
       "\n",
       ".xr-section-inline-details {\n",
       "  grid-column: 2 / -1;\n",
       "}\n",
       "\n",
       ".xr-section-details {\n",
       "  display: none;\n",
       "  grid-column: 1 / -1;\n",
       "  margin-bottom: 5px;\n",
       "}\n",
       "\n",
       ".xr-section-summary-in:checked ~ .xr-section-details {\n",
       "  display: contents;\n",
       "}\n",
       "\n",
       ".xr-array-wrap {\n",
       "  grid-column: 1 / -1;\n",
       "  display: grid;\n",
       "  grid-template-columns: 20px auto;\n",
       "}\n",
       "\n",
       ".xr-array-wrap > label {\n",
       "  grid-column: 1;\n",
       "  vertical-align: top;\n",
       "}\n",
       "\n",
       ".xr-preview {\n",
       "  color: var(--xr-font-color3);\n",
       "}\n",
       "\n",
       ".xr-array-preview,\n",
       ".xr-array-data {\n",
       "  padding: 0 5px !important;\n",
       "  grid-column: 2;\n",
       "}\n",
       "\n",
       ".xr-array-data,\n",
       ".xr-array-in:checked ~ .xr-array-preview {\n",
       "  display: none;\n",
       "}\n",
       "\n",
       ".xr-array-in:checked ~ .xr-array-data,\n",
       ".xr-array-preview {\n",
       "  display: inline-block;\n",
       "}\n",
       "\n",
       ".xr-dim-list {\n",
       "  display: inline-block !important;\n",
       "  list-style: none;\n",
       "  padding: 0 !important;\n",
       "  margin: 0;\n",
       "}\n",
       "\n",
       ".xr-dim-list li {\n",
       "  display: inline-block;\n",
       "  padding: 0;\n",
       "  margin: 0;\n",
       "}\n",
       "\n",
       ".xr-dim-list:before {\n",
       "  content: '(';\n",
       "}\n",
       "\n",
       ".xr-dim-list:after {\n",
       "  content: ')';\n",
       "}\n",
       "\n",
       ".xr-dim-list li:not(:last-child):after {\n",
       "  content: ',';\n",
       "  padding-right: 5px;\n",
       "}\n",
       "\n",
       ".xr-has-index {\n",
       "  font-weight: bold;\n",
       "}\n",
       "\n",
       ".xr-var-list,\n",
       ".xr-var-item {\n",
       "  display: contents;\n",
       "}\n",
       "\n",
       ".xr-var-item > div,\n",
       ".xr-var-item label,\n",
       ".xr-var-item > .xr-var-name span {\n",
       "  background-color: var(--xr-background-color-row-even);\n",
       "  margin-bottom: 0;\n",
       "}\n",
       "\n",
       ".xr-var-item > .xr-var-name:hover span {\n",
       "  padding-right: 5px;\n",
       "}\n",
       "\n",
       ".xr-var-list > li:nth-child(odd) > div,\n",
       ".xr-var-list > li:nth-child(odd) > label,\n",
       ".xr-var-list > li:nth-child(odd) > .xr-var-name span {\n",
       "  background-color: var(--xr-background-color-row-odd);\n",
       "}\n",
       "\n",
       ".xr-var-name {\n",
       "  grid-column: 1;\n",
       "}\n",
       "\n",
       ".xr-var-dims {\n",
       "  grid-column: 2;\n",
       "}\n",
       "\n",
       ".xr-var-dtype {\n",
       "  grid-column: 3;\n",
       "  text-align: right;\n",
       "  color: var(--xr-font-color2);\n",
       "}\n",
       "\n",
       ".xr-var-preview {\n",
       "  grid-column: 4;\n",
       "}\n",
       "\n",
       ".xr-index-preview {\n",
       "  grid-column: 2 / 5;\n",
       "  color: var(--xr-font-color2);\n",
       "}\n",
       "\n",
       ".xr-var-name,\n",
       ".xr-var-dims,\n",
       ".xr-var-dtype,\n",
       ".xr-preview,\n",
       ".xr-attrs dt {\n",
       "  white-space: nowrap;\n",
       "  overflow: hidden;\n",
       "  text-overflow: ellipsis;\n",
       "  padding-right: 10px;\n",
       "}\n",
       "\n",
       ".xr-var-name:hover,\n",
       ".xr-var-dims:hover,\n",
       ".xr-var-dtype:hover,\n",
       ".xr-attrs dt:hover {\n",
       "  overflow: visible;\n",
       "  width: auto;\n",
       "  z-index: 1;\n",
       "}\n",
       "\n",
       ".xr-var-attrs,\n",
       ".xr-var-data,\n",
       ".xr-index-data {\n",
       "  display: none;\n",
       "  background-color: var(--xr-background-color) !important;\n",
       "  padding-bottom: 5px !important;\n",
       "}\n",
       "\n",
       ".xr-var-attrs-in:checked ~ .xr-var-attrs,\n",
       ".xr-var-data-in:checked ~ .xr-var-data,\n",
       ".xr-index-data-in:checked ~ .xr-index-data {\n",
       "  display: block;\n",
       "}\n",
       "\n",
       ".xr-var-data > table {\n",
       "  float: right;\n",
       "}\n",
       "\n",
       ".xr-var-name span,\n",
       ".xr-var-data,\n",
       ".xr-index-name div,\n",
       ".xr-index-data,\n",
       ".xr-attrs {\n",
       "  padding-left: 25px !important;\n",
       "}\n",
       "\n",
       ".xr-attrs,\n",
       ".xr-var-attrs,\n",
       ".xr-var-data,\n",
       ".xr-index-data {\n",
       "  grid-column: 1 / -1;\n",
       "}\n",
       "\n",
       "dl.xr-attrs {\n",
       "  padding: 0;\n",
       "  margin: 0;\n",
       "  display: grid;\n",
       "  grid-template-columns: 125px auto;\n",
       "}\n",
       "\n",
       ".xr-attrs dt,\n",
       ".xr-attrs dd {\n",
       "  padding: 0;\n",
       "  margin: 0;\n",
       "  float: left;\n",
       "  padding-right: 10px;\n",
       "  width: auto;\n",
       "}\n",
       "\n",
       ".xr-attrs dt {\n",
       "  font-weight: normal;\n",
       "  grid-column: 1;\n",
       "}\n",
       "\n",
       ".xr-attrs dt:hover span {\n",
       "  display: inline-block;\n",
       "  background: var(--xr-background-color);\n",
       "  padding-right: 10px;\n",
       "}\n",
       "\n",
       ".xr-attrs dd {\n",
       "  grid-column: 2;\n",
       "  white-space: pre-wrap;\n",
       "  word-break: break-all;\n",
       "}\n",
       "\n",
       ".xr-icon-database,\n",
       ".xr-icon-file-text2,\n",
       ".xr-no-icon {\n",
       "  display: inline-block;\n",
       "  vertical-align: middle;\n",
       "  width: 1em;\n",
       "  height: 1.5em !important;\n",
       "  stroke-width: 0;\n",
       "  stroke: currentColor;\n",
       "  fill: currentColor;\n",
       "}\n",
       "</style><pre class='xr-text-repr-fallback'>&lt;xarray.DataArray &#x27;RAINFALL&#x27; (TIME: 366, LATITUDE: 129, LONGITUDE: 135)&gt;\n",
       "[6373890 values with dtype=float64]\n",
       "Coordinates:\n",
       "  * LONGITUDE  (LONGITUDE) float64 66.5 66.75 67.0 67.25 ... 99.5 99.75 100.0\n",
       "  * LATITUDE   (LATITUDE) float64 6.5 6.75 7.0 7.25 ... 37.75 38.0 38.25 38.5\n",
       "  * TIME       (TIME) datetime64[ns] 2020-01-01 2020-01-02 ... 2020-12-31\n",
       "Attributes:\n",
       "    long_name:  Rainfall\n",
       "    units:      mm\n",
       "    history:    From ind2020_rfp25.grd</pre><div class='xr-wrap' style='display:none'><div class='xr-header'><div class='xr-obj-type'>xarray.DataArray</div><div class='xr-array-name'>'RAINFALL'</div><ul class='xr-dim-list'><li><span class='xr-has-index'>TIME</span>: 366</li><li><span class='xr-has-index'>LATITUDE</span>: 129</li><li><span class='xr-has-index'>LONGITUDE</span>: 135</li></ul></div><ul class='xr-sections'><li class='xr-section-item'><div class='xr-array-wrap'><input id='section-96446d57-3dc7-46be-a558-6a8c22c2f5f8' class='xr-array-in' type='checkbox' checked><label for='section-96446d57-3dc7-46be-a558-6a8c22c2f5f8' title='Show/hide data repr'><svg class='icon xr-icon-database'><use xlink:href='#icon-database'></use></svg></label><div class='xr-array-preview xr-preview'><span>...</span></div><div class='xr-array-data'><pre>[6373890 values with dtype=float64]</pre></div></div></li><li class='xr-section-item'><input id='section-0d84505f-9ef5-4ec1-a9bd-98f74b4ea56f' class='xr-section-summary-in' type='checkbox'  checked><label for='section-0d84505f-9ef5-4ec1-a9bd-98f74b4ea56f' class='xr-section-summary' >Coordinates: <span>(3)</span></label><div class='xr-section-inline-details'></div><div class='xr-section-details'><ul class='xr-var-list'><li class='xr-var-item'><div class='xr-var-name'><span class='xr-has-index'>LONGITUDE</span></div><div class='xr-var-dims'>(LONGITUDE)</div><div class='xr-var-dtype'>float64</div><div class='xr-var-preview xr-preview'>66.5 66.75 67.0 ... 99.75 100.0</div><input id='attrs-3d29bd9c-cc65-4e80-969f-c9c0301f6cf4' class='xr-var-attrs-in' type='checkbox' ><label for='attrs-3d29bd9c-cc65-4e80-969f-c9c0301f6cf4' title='Show/Hide attributes'><svg class='icon xr-icon-file-text2'><use xlink:href='#icon-file-text2'></use></svg></label><input id='data-f2a25090-6d2c-4ac8-a347-a256cdc187f6' class='xr-var-data-in' type='checkbox'><label for='data-f2a25090-6d2c-4ac8-a347-a256cdc187f6' title='Show/Hide data repr'><svg class='icon xr-icon-database'><use xlink:href='#icon-database'></use></svg></label><div class='xr-var-attrs'><dl class='xr-attrs'><dt><span>units :</span></dt><dd>degrees_east</dd><dt><span>point_spacing :</span></dt><dd>even</dd><dt><span>axis :</span></dt><dd>X</dd><dt><span>modulo :</span></dt><dd>360.0</dd><dt><span>standard_name :</span></dt><dd>longitude</dd></dl></div><div class='xr-var-data'><pre>array([ 66.5 ,  66.75,  67.  ,  67.25,  67.5 ,  67.75,  68.  ,  68.25,  68.5 ,\n",
       "        68.75,  69.  ,  69.25,  69.5 ,  69.75,  70.  ,  70.25,  70.5 ,  70.75,\n",
       "        71.  ,  71.25,  71.5 ,  71.75,  72.  ,  72.25,  72.5 ,  72.75,  73.  ,\n",
       "        73.25,  73.5 ,  73.75,  74.  ,  74.25,  74.5 ,  74.75,  75.  ,  75.25,\n",
       "        75.5 ,  75.75,  76.  ,  76.25,  76.5 ,  76.75,  77.  ,  77.25,  77.5 ,\n",
       "        77.75,  78.  ,  78.25,  78.5 ,  78.75,  79.  ,  79.25,  79.5 ,  79.75,\n",
       "        80.  ,  80.25,  80.5 ,  80.75,  81.  ,  81.25,  81.5 ,  81.75,  82.  ,\n",
       "        82.25,  82.5 ,  82.75,  83.  ,  83.25,  83.5 ,  83.75,  84.  ,  84.25,\n",
       "        84.5 ,  84.75,  85.  ,  85.25,  85.5 ,  85.75,  86.  ,  86.25,  86.5 ,\n",
       "        86.75,  87.  ,  87.25,  87.5 ,  87.75,  88.  ,  88.25,  88.5 ,  88.75,\n",
       "        89.  ,  89.25,  89.5 ,  89.75,  90.  ,  90.25,  90.5 ,  90.75,  91.  ,\n",
       "        91.25,  91.5 ,  91.75,  92.  ,  92.25,  92.5 ,  92.75,  93.  ,  93.25,\n",
       "        93.5 ,  93.75,  94.  ,  94.25,  94.5 ,  94.75,  95.  ,  95.25,  95.5 ,\n",
       "        95.75,  96.  ,  96.25,  96.5 ,  96.75,  97.  ,  97.25,  97.5 ,  97.75,\n",
       "        98.  ,  98.25,  98.5 ,  98.75,  99.  ,  99.25,  99.5 ,  99.75, 100.  ])</pre></div></li><li class='xr-var-item'><div class='xr-var-name'><span class='xr-has-index'>LATITUDE</span></div><div class='xr-var-dims'>(LATITUDE)</div><div class='xr-var-dtype'>float64</div><div class='xr-var-preview xr-preview'>6.5 6.75 7.0 ... 38.0 38.25 38.5</div><input id='attrs-f74b2558-d8c6-4b41-94a9-a8d8cab8c8ba' class='xr-var-attrs-in' type='checkbox' ><label for='attrs-f74b2558-d8c6-4b41-94a9-a8d8cab8c8ba' title='Show/Hide attributes'><svg class='icon xr-icon-file-text2'><use xlink:href='#icon-file-text2'></use></svg></label><input id='data-fda5cae3-5997-4a14-9dd2-dc6d4c9644e0' class='xr-var-data-in' type='checkbox'><label for='data-fda5cae3-5997-4a14-9dd2-dc6d4c9644e0' title='Show/Hide data repr'><svg class='icon xr-icon-database'><use xlink:href='#icon-database'></use></svg></label><div class='xr-var-attrs'><dl class='xr-attrs'><dt><span>units :</span></dt><dd>degrees_north</dd><dt><span>point_spacing :</span></dt><dd>even</dd><dt><span>axis :</span></dt><dd>Y</dd><dt><span>standard_name :</span></dt><dd>latitude</dd></dl></div><div class='xr-var-data'><pre>array([ 6.5 ,  6.75,  7.  ,  7.25,  7.5 ,  7.75,  8.  ,  8.25,  8.5 ,  8.75,\n",
       "        9.  ,  9.25,  9.5 ,  9.75, 10.  , 10.25, 10.5 , 10.75, 11.  , 11.25,\n",
       "       11.5 , 11.75, 12.  , 12.25, 12.5 , 12.75, 13.  , 13.25, 13.5 , 13.75,\n",
       "       14.  , 14.25, 14.5 , 14.75, 15.  , 15.25, 15.5 , 15.75, 16.  , 16.25,\n",
       "       16.5 , 16.75, 17.  , 17.25, 17.5 , 17.75, 18.  , 18.25, 18.5 , 18.75,\n",
       "       19.  , 19.25, 19.5 , 19.75, 20.  , 20.25, 20.5 , 20.75, 21.  , 21.25,\n",
       "       21.5 , 21.75, 22.  , 22.25, 22.5 , 22.75, 23.  , 23.25, 23.5 , 23.75,\n",
       "       24.  , 24.25, 24.5 , 24.75, 25.  , 25.25, 25.5 , 25.75, 26.  , 26.25,\n",
       "       26.5 , 26.75, 27.  , 27.25, 27.5 , 27.75, 28.  , 28.25, 28.5 , 28.75,\n",
       "       29.  , 29.25, 29.5 , 29.75, 30.  , 30.25, 30.5 , 30.75, 31.  , 31.25,\n",
       "       31.5 , 31.75, 32.  , 32.25, 32.5 , 32.75, 33.  , 33.25, 33.5 , 33.75,\n",
       "       34.  , 34.25, 34.5 , 34.75, 35.  , 35.25, 35.5 , 35.75, 36.  , 36.25,\n",
       "       36.5 , 36.75, 37.  , 37.25, 37.5 , 37.75, 38.  , 38.25, 38.5 ])</pre></div></li><li class='xr-var-item'><div class='xr-var-name'><span class='xr-has-index'>TIME</span></div><div class='xr-var-dims'>(TIME)</div><div class='xr-var-dtype'>datetime64[ns]</div><div class='xr-var-preview xr-preview'>2020-01-01 ... 2020-12-31</div><input id='attrs-08ba023d-0138-45b8-968e-e259cc3ed6ab' class='xr-var-attrs-in' type='checkbox' ><label for='attrs-08ba023d-0138-45b8-968e-e259cc3ed6ab' title='Show/Hide attributes'><svg class='icon xr-icon-file-text2'><use xlink:href='#icon-file-text2'></use></svg></label><input id='data-2ec8b678-c415-4bc1-928a-3e32ff896ec4' class='xr-var-data-in' type='checkbox'><label for='data-2ec8b678-c415-4bc1-928a-3e32ff896ec4' title='Show/Hide data repr'><svg class='icon xr-icon-database'><use xlink:href='#icon-database'></use></svg></label><div class='xr-var-attrs'><dl class='xr-attrs'><dt><span>axis :</span></dt><dd>T</dd><dt><span>time_origin :</span></dt><dd>31-DEC-1900</dd><dt><span>standard_name :</span></dt><dd>time</dd></dl></div><div class='xr-var-data'><pre>array([&#x27;2020-01-01T00:00:00.000000000&#x27;, &#x27;2020-01-02T00:00:00.000000000&#x27;,\n",
       "       &#x27;2020-01-03T00:00:00.000000000&#x27;, ..., &#x27;2020-12-29T00:00:00.000000000&#x27;,\n",
       "       &#x27;2020-12-30T00:00:00.000000000&#x27;, &#x27;2020-12-31T00:00:00.000000000&#x27;],\n",
       "      dtype=&#x27;datetime64[ns]&#x27;)</pre></div></li></ul></div></li><li class='xr-section-item'><input id='section-7047c0e7-3768-48d2-9596-966444edfa5c' class='xr-section-summary-in' type='checkbox'  ><label for='section-7047c0e7-3768-48d2-9596-966444edfa5c' class='xr-section-summary' >Indexes: <span>(3)</span></label><div class='xr-section-inline-details'></div><div class='xr-section-details'><ul class='xr-var-list'><li class='xr-var-item'><div class='xr-index-name'><div>LONGITUDE</div></div><div class='xr-index-preview'>PandasIndex</div><div></div><input id='index-1b34de9c-ab45-44bd-97ad-9af7b89417f3' class='xr-index-data-in' type='checkbox'/><label for='index-1b34de9c-ab45-44bd-97ad-9af7b89417f3' title='Show/Hide index repr'><svg class='icon xr-icon-database'><use xlink:href='#icon-database'></use></svg></label><div class='xr-index-data'><pre>PandasIndex(Float64Index([ 66.5, 66.75,  67.0, 67.25,  67.5, 67.75,  68.0, 68.25,  68.5,\n",
       "              68.75,\n",
       "              ...\n",
       "              97.75,  98.0, 98.25,  98.5, 98.75,  99.0, 99.25,  99.5, 99.75,\n",
       "              100.0],\n",
       "             dtype=&#x27;float64&#x27;, name=&#x27;LONGITUDE&#x27;, length=135))</pre></div></li><li class='xr-var-item'><div class='xr-index-name'><div>LATITUDE</div></div><div class='xr-index-preview'>PandasIndex</div><div></div><input id='index-dcc298db-b466-4064-bcc8-f73dade702e4' class='xr-index-data-in' type='checkbox'/><label for='index-dcc298db-b466-4064-bcc8-f73dade702e4' title='Show/Hide index repr'><svg class='icon xr-icon-database'><use xlink:href='#icon-database'></use></svg></label><div class='xr-index-data'><pre>PandasIndex(Float64Index([  6.5,  6.75,   7.0,  7.25,   7.5,  7.75,   8.0,  8.25,   8.5,\n",
       "               8.75,\n",
       "              ...\n",
       "              36.25,  36.5, 36.75,  37.0, 37.25,  37.5, 37.75,  38.0, 38.25,\n",
       "               38.5],\n",
       "             dtype=&#x27;float64&#x27;, name=&#x27;LATITUDE&#x27;, length=129))</pre></div></li><li class='xr-var-item'><div class='xr-index-name'><div>TIME</div></div><div class='xr-index-preview'>PandasIndex</div><div></div><input id='index-05c49b7f-dfcb-4fbf-9fbc-5ea0604ff48d' class='xr-index-data-in' type='checkbox'/><label for='index-05c49b7f-dfcb-4fbf-9fbc-5ea0604ff48d' title='Show/Hide index repr'><svg class='icon xr-icon-database'><use xlink:href='#icon-database'></use></svg></label><div class='xr-index-data'><pre>PandasIndex(DatetimeIndex([&#x27;2020-01-01&#x27;, &#x27;2020-01-02&#x27;, &#x27;2020-01-03&#x27;, &#x27;2020-01-04&#x27;,\n",
       "               &#x27;2020-01-05&#x27;, &#x27;2020-01-06&#x27;, &#x27;2020-01-07&#x27;, &#x27;2020-01-08&#x27;,\n",
       "               &#x27;2020-01-09&#x27;, &#x27;2020-01-10&#x27;,\n",
       "               ...\n",
       "               &#x27;2020-12-22&#x27;, &#x27;2020-12-23&#x27;, &#x27;2020-12-24&#x27;, &#x27;2020-12-25&#x27;,\n",
       "               &#x27;2020-12-26&#x27;, &#x27;2020-12-27&#x27;, &#x27;2020-12-28&#x27;, &#x27;2020-12-29&#x27;,\n",
       "               &#x27;2020-12-30&#x27;, &#x27;2020-12-31&#x27;],\n",
       "              dtype=&#x27;datetime64[ns]&#x27;, name=&#x27;TIME&#x27;, length=366, freq=None))</pre></div></li></ul></div></li><li class='xr-section-item'><input id='section-f6fee1c6-0787-4420-af81-84751827e6ca' class='xr-section-summary-in' type='checkbox'  checked><label for='section-f6fee1c6-0787-4420-af81-84751827e6ca' class='xr-section-summary' >Attributes: <span>(3)</span></label><div class='xr-section-inline-details'></div><div class='xr-section-details'><dl class='xr-attrs'><dt><span>long_name :</span></dt><dd>Rainfall</dd><dt><span>units :</span></dt><dd>mm</dd><dt><span>history :</span></dt><dd>From ind2020_rfp25.grd</dd></dl></div></li></ul></div></div>"
      ],
      "text/plain": [
       "<xarray.DataArray 'RAINFALL' (TIME: 366, LATITUDE: 129, LONGITUDE: 135)>\n",
       "[6373890 values with dtype=float64]\n",
       "Coordinates:\n",
       "  * LONGITUDE  (LONGITUDE) float64 66.5 66.75 67.0 67.25 ... 99.5 99.75 100.0\n",
       "  * LATITUDE   (LATITUDE) float64 6.5 6.75 7.0 7.25 ... 37.75 38.0 38.25 38.5\n",
       "  * TIME       (TIME) datetime64[ns] 2020-01-01 2020-01-02 ... 2020-12-31\n",
       "Attributes:\n",
       "    long_name:  Rainfall\n",
       "    units:      mm\n",
       "    history:    From ind2020_rfp25.grd"
      ]
     },
     "execution_count": 30,
     "metadata": {},
     "output_type": "execute_result"
    }
   ],
   "source": [
    "start_date = \"2020-01-01\"\n",
    "end_date = \"2020-12-31\"\n",
    "\n",
    "five_years_conus = data[\"RAINFALL\"].sel(\n",
    "    TIME=slice(start_date, end_date))\n",
    "# Notice that time has a value of **2** below representing two time steps or months worth of data\n",
    "five_years_conus "
   ]
  },
  {
   "cell_type": "code",
   "execution_count": 31,
   "id": "33d768dc",
   "metadata": {
    "execution": {
     "iopub.execute_input": "2022-10-11T18:54:09.389807Z",
     "iopub.status.busy": "2022-10-11T18:54:09.388821Z",
     "iopub.status.idle": "2022-10-11T18:54:09.395107Z",
     "shell.execute_reply": "2022-10-11T18:54:09.394094Z"
    },
    "papermill": {
     "duration": 0.029022,
     "end_time": "2022-10-11T18:54:09.397352",
     "exception": false,
     "start_time": "2022-10-11T18:54:09.368330",
     "status": "completed"
    },
    "tags": []
   },
   "outputs": [
    {
     "data": {
      "text/plain": [
       "(366, 129, 135)"
      ]
     },
     "execution_count": 31,
     "metadata": {},
     "output_type": "execute_result"
    }
   ],
   "source": [
    "five_years_conus.shape"
   ]
  },
  {
   "cell_type": "code",
   "execution_count": 32,
   "id": "6d92c23c",
   "metadata": {
    "execution": {
     "iopub.execute_input": "2022-10-11T18:54:09.437906Z",
     "iopub.status.busy": "2022-10-11T18:54:09.437483Z",
     "iopub.status.idle": "2022-10-11T18:54:24.671558Z",
     "shell.execute_reply": "2022-10-11T18:54:24.669599Z"
    },
    "papermill": {
     "duration": 15.257272,
     "end_time": "2022-10-11T18:54:24.674114",
     "exception": false,
     "start_time": "2022-10-11T18:54:09.416842",
     "status": "completed"
    },
    "tags": []
   },
   "outputs": [
    {
     "data": {
      "image/png": "[encoded data removed]",
      "text/plain": [
       "<Figure size 640x480 with 1 Axes>"
      ]
     },
     "metadata": {},
     "output_type": "display_data"
    }
   ],
   "source": [
    "# Directly plot just a single day using time in \"years\"\n",
    "five_years_conus.plot()\n",
    "plt.show()"
   ]
  },
  {
   "cell_type": "code",
   "execution_count": 35,
   "id": "0a944e07",
   "metadata": {
    "execution": {
     "iopub.execute_input": "2022-10-11T18:54:24.717140Z",
     "iopub.status.busy": "2022-10-11T18:54:24.716712Z",
     "iopub.status.idle": "2022-10-11T18:54:30.413920Z",
     "shell.execute_reply": "2022-10-11T18:54:30.412828Z"
    },
    "papermill": {
     "duration": 5.721394,
     "end_time": "2022-10-11T18:54:30.416386",
     "exception": false,
     "start_time": "2022-10-11T18:54:24.694992",
     "status": "completed"
    },
    "tags": []
   },
   "outputs": [
    {
     "data": {
      "text/html": [
       "<div><svg style=\"position: absolute; width: 0; height: 0; overflow: hidden\">\n",
       "<defs>\n",
       "<symbol id=\"icon-database\" viewBox=\"0 0 32 32\">\n",
       "<path d=\"M16 0c-8.837 0-16 2.239-16 5v4c0 2.761 7.163 5 16 5s16-2.239 16-5v-4c0-2.761-7.163-5-16-5z\"></path>\n",
       "<path d=\"M16 17c-8.837 0-16-2.239-16-5v6c0 2.761 7.163 5 16 5s16-2.239 16-5v-6c0 2.761-7.163 5-16 5z\"></path>\n",
       "<path d=\"M16 26c-8.837 0-16-2.239-16-5v6c0 2.761 7.163 5 16 5s16-2.239 16-5v-6c0 2.761-7.163 5-16 5z\"></path>\n",
       "</symbol>\n",
       "<symbol id=\"icon-file-text2\" viewBox=\"0 0 32 32\">\n",
       "<path d=\"M28.681 7.159c-0.694-0.947-1.662-2.053-2.724-3.116s-2.169-2.030-3.116-2.724c-1.612-1.182-2.393-1.319-2.841-1.319h-15.5c-1.378 0-2.5 1.121-2.5 2.5v27c0 1.378 1.122 2.5 2.5 2.5h23c1.378 0 2.5-1.122 2.5-2.5v-19.5c0-0.448-0.137-1.23-1.319-2.841zM24.543 5.457c0.959 0.959 1.712 1.825 2.268 2.543h-4.811v-4.811c0.718 0.556 1.584 1.309 2.543 2.268zM28 29.5c0 0.271-0.229 0.5-0.5 0.5h-23c-0.271 0-0.5-0.229-0.5-0.5v-27c0-0.271 0.229-0.5 0.5-0.5 0 0 15.499-0 15.5 0v7c0 0.552 0.448 1 1 1h7v19.5z\"></path>\n",
       "<path d=\"M23 26h-14c-0.552 0-1-0.448-1-1s0.448-1 1-1h14c0.552 0 1 0.448 1 1s-0.448 1-1 1z\"></path>\n",
       "<path d=\"M23 22h-14c-0.552 0-1-0.448-1-1s0.448-1 1-1h14c0.552 0 1 0.448 1 1s-0.448 1-1 1z\"></path>\n",
       "<path d=\"M23 18h-14c-0.552 0-1-0.448-1-1s0.448-1 1-1h14c0.552 0 1 0.448 1 1s-0.448 1-1 1z\"></path>\n",
       "</symbol>\n",
       "</defs>\n",
       "</svg>\n",
       "<style>/* CSS stylesheet for displaying xarray objects in jupyterlab.\n",
       " *\n",
       " */\n",
       "\n",
       ":root {\n",
       "  --xr-font-color0: var(--jp-content-font-color0, rgba(0, 0, 0, 1));\n",
       "  --xr-font-color2: var(--jp-content-font-color2, rgba(0, 0, 0, 0.54));\n",
       "  --xr-font-color3: var(--jp-content-font-color3, rgba(0, 0, 0, 0.38));\n",
       "  --xr-border-color: var(--jp-border-color2, #e0e0e0);\n",
       "  --xr-disabled-color: var(--jp-layout-color3, #bdbdbd);\n",
       "  --xr-background-color: var(--jp-layout-color0, white);\n",
       "  --xr-background-color-row-even: var(--jp-layout-color1, white);\n",
       "  --xr-background-color-row-odd: var(--jp-layout-color2, #eeeeee);\n",
       "}\n",
       "\n",
       "html[theme=dark],\n",
       "body[data-theme=dark],\n",
       "body.vscode-dark {\n",
       "  --xr-font-color0: rgba(255, 255, 255, 1);\n",
       "  --xr-font-color2: rgba(255, 255, 255, 0.54);\n",
       "  --xr-font-color3: rgba(255, 255, 255, 0.38);\n",
       "  --xr-border-color: #1F1F1F;\n",
       "  --xr-disabled-color: #515151;\n",
       "  --xr-background-color: #111111;\n",
       "  --xr-background-color-row-even: #111111;\n",
       "  --xr-background-color-row-odd: #313131;\n",
       "}\n",
       "\n",
       ".xr-wrap {\n",
       "  display: block !important;\n",
       "  min-width: 300px;\n",
       "  max-width: 700px;\n",
       "}\n",
       "\n",
       ".xr-text-repr-fallback {\n",
       "  /* fallback to plain text repr when CSS is not injected (untrusted notebook) */\n",
       "  display: none;\n",
       "}\n",
       "\n",
       ".xr-header {\n",
       "  padding-top: 6px;\n",
       "  padding-bottom: 6px;\n",
       "  margin-bottom: 4px;\n",
       "  border-bottom: solid 1px var(--xr-border-color);\n",
       "}\n",
       "\n",
       ".xr-header > div,\n",
       ".xr-header > ul {\n",
       "  display: inline;\n",
       "  margin-top: 0;\n",
       "  margin-bottom: 0;\n",
       "}\n",
       "\n",
       ".xr-obj-type,\n",
       ".xr-array-name {\n",
       "  margin-left: 2px;\n",
       "  margin-right: 10px;\n",
       "}\n",
       "\n",
       ".xr-obj-type {\n",
       "  color: var(--xr-font-color2);\n",
       "}\n",
       "\n",
       ".xr-sections {\n",
       "  padding-left: 0 !important;\n",
       "  display: grid;\n",
       "  grid-template-columns: 150px auto auto 1fr 20px 20px;\n",
       "}\n",
       "\n",
       ".xr-section-item {\n",
       "  display: contents;\n",
       "}\n",
       "\n",
       ".xr-section-item input {\n",
       "  display: none;\n",
       "}\n",
       "\n",
       ".xr-section-item input + label {\n",
       "  color: var(--xr-disabled-color);\n",
       "}\n",
       "\n",
       ".xr-section-item input:enabled + label {\n",
       "  cursor: pointer;\n",
       "  color: var(--xr-font-color2);\n",
       "}\n",
       "\n",
       ".xr-section-item input:enabled + label:hover {\n",
       "  color: var(--xr-font-color0);\n",
       "}\n",
       "\n",
       ".xr-section-summary {\n",
       "  grid-column: 1;\n",
       "  color: var(--xr-font-color2);\n",
       "  font-weight: 500;\n",
       "}\n",
       "\n",
       ".xr-section-summary > span {\n",
       "  display: inline-block;\n",
       "  padding-left: 0.5em;\n",
       "}\n",
       "\n",
       ".xr-section-summary-in:disabled + label {\n",
       "  color: var(--xr-font-color2);\n",
       "}\n",
       "\n",
       ".xr-section-summary-in + label:before {\n",
       "  display: inline-block;\n",
       "  content: '►';\n",
       "  font-size: 11px;\n",
       "  width: 15px;\n",
       "  text-align: center;\n",
       "}\n",
       "\n",
       ".xr-section-summary-in:disabled + label:before {\n",
       "  color: var(--xr-disabled-color);\n",
       "}\n",
       "\n",
       ".xr-section-summary-in:checked + label:before {\n",
       "  content: '▼';\n",
       "}\n",
       "\n",
       ".xr-section-summary-in:checked + label > span {\n",
       "  display: none;\n",
       "}\n",
       "\n",
       ".xr-section-summary,\n",
       ".xr-section-inline-details {\n",
       "  padding-top: 4px;\n",
       "  padding-bottom: 4px;\n",
       "}\n",
       "\n",
       ".xr-section-inline-details {\n",
       "  grid-column: 2 / -1;\n",
       "}\n",
       "\n",
       ".xr-section-details {\n",
       "  display: none;\n",
       "  grid-column: 1 / -1;\n",
       "  margin-bottom: 5px;\n",
       "}\n",
       "\n",
       ".xr-section-summary-in:checked ~ .xr-section-details {\n",
       "  display: contents;\n",
       "}\n",
       "\n",
       ".xr-array-wrap {\n",
       "  grid-column: 1 / -1;\n",
       "  display: grid;\n",
       "  grid-template-columns: 20px auto;\n",
       "}\n",
       "\n",
       ".xr-array-wrap > label {\n",
       "  grid-column: 1;\n",
       "  vertical-align: top;\n",
       "}\n",
       "\n",
       ".xr-preview {\n",
       "  color: var(--xr-font-color3);\n",
       "}\n",
       "\n",
       ".xr-array-preview,\n",
       ".xr-array-data {\n",
       "  padding: 0 5px !important;\n",
       "  grid-column: 2;\n",
       "}\n",
       "\n",
       ".xr-array-data,\n",
       ".xr-array-in:checked ~ .xr-array-preview {\n",
       "  display: none;\n",
       "}\n",
       "\n",
       ".xr-array-in:checked ~ .xr-array-data,\n",
       ".xr-array-preview {\n",
       "  display: inline-block;\n",
       "}\n",
       "\n",
       ".xr-dim-list {\n",
       "  display: inline-block !important;\n",
       "  list-style: none;\n",
       "  padding: 0 !important;\n",
       "  margin: 0;\n",
       "}\n",
       "\n",
       ".xr-dim-list li {\n",
       "  display: inline-block;\n",
       "  padding: 0;\n",
       "  margin: 0;\n",
       "}\n",
       "\n",
       ".xr-dim-list:before {\n",
       "  content: '(';\n",
       "}\n",
       "\n",
       ".xr-dim-list:after {\n",
       "  content: ')';\n",
       "}\n",
       "\n",
       ".xr-dim-list li:not(:last-child):after {\n",
       "  content: ',';\n",
       "  padding-right: 5px;\n",
       "}\n",
       "\n",
       ".xr-has-index {\n",
       "  font-weight: bold;\n",
       "}\n",
       "\n",
       ".xr-var-list,\n",
       ".xr-var-item {\n",
       "  display: contents;\n",
       "}\n",
       "\n",
       ".xr-var-item > div,\n",
       ".xr-var-item label,\n",
       ".xr-var-item > .xr-var-name span {\n",
       "  background-color: var(--xr-background-color-row-even);\n",
       "  margin-bottom: 0;\n",
       "}\n",
       "\n",
       ".xr-var-item > .xr-var-name:hover span {\n",
       "  padding-right: 5px;\n",
       "}\n",
       "\n",
       ".xr-var-list > li:nth-child(odd) > div,\n",
       ".xr-var-list > li:nth-child(odd) > label,\n",
       ".xr-var-list > li:nth-child(odd) > .xr-var-name span {\n",
       "  background-color: var(--xr-background-color-row-odd);\n",
       "}\n",
       "\n",
       ".xr-var-name {\n",
       "  grid-column: 1;\n",
       "}\n",
       "\n",
       ".xr-var-dims {\n",
       "  grid-column: 2;\n",
       "}\n",
       "\n",
       ".xr-var-dtype {\n",
       "  grid-column: 3;\n",
       "  text-align: right;\n",
       "  color: var(--xr-font-color2);\n",
       "}\n",
       "\n",
       ".xr-var-preview {\n",
       "  grid-column: 4;\n",
       "}\n",
       "\n",
       ".xr-index-preview {\n",
       "  grid-column: 2 / 5;\n",
       "  color: var(--xr-font-color2);\n",
       "}\n",
       "\n",
       ".xr-var-name,\n",
       ".xr-var-dims,\n",
       ".xr-var-dtype,\n",
       ".xr-preview,\n",
       ".xr-attrs dt {\n",
       "  white-space: nowrap;\n",
       "  overflow: hidden;\n",
       "  text-overflow: ellipsis;\n",
       "  padding-right: 10px;\n",
       "}\n",
       "\n",
       ".xr-var-name:hover,\n",
       ".xr-var-dims:hover,\n",
       ".xr-var-dtype:hover,\n",
       ".xr-attrs dt:hover {\n",
       "  overflow: visible;\n",
       "  width: auto;\n",
       "  z-index: 1;\n",
       "}\n",
       "\n",
       ".xr-var-attrs,\n",
       ".xr-var-data,\n",
       ".xr-index-data {\n",
       "  display: none;\n",
       "  background-color: var(--xr-background-color) !important;\n",
       "  padding-bottom: 5px !important;\n",
       "}\n",
       "\n",
       ".xr-var-attrs-in:checked ~ .xr-var-attrs,\n",
       ".xr-var-data-in:checked ~ .xr-var-data,\n",
       ".xr-index-data-in:checked ~ .xr-index-data {\n",
       "  display: block;\n",
       "}\n",
       "\n",
       ".xr-var-data > table {\n",
       "  float: right;\n",
       "}\n",
       "\n",
       ".xr-var-name span,\n",
       ".xr-var-data,\n",
       ".xr-index-name div,\n",
       ".xr-index-data,\n",
       ".xr-attrs {\n",
       "  padding-left: 25px !important;\n",
       "}\n",
       "\n",
       ".xr-attrs,\n",
       ".xr-var-attrs,\n",
       ".xr-var-data,\n",
       ".xr-index-data {\n",
       "  grid-column: 1 / -1;\n",
       "}\n",
       "\n",
       "dl.xr-attrs {\n",
       "  padding: 0;\n",
       "  margin: 0;\n",
       "  display: grid;\n",
       "  grid-template-columns: 125px auto;\n",
       "}\n",
       "\n",
       ".xr-attrs dt,\n",
       ".xr-attrs dd {\n",
       "  padding: 0;\n",
       "  margin: 0;\n",
       "  float: left;\n",
       "  padding-right: 10px;\n",
       "  width: auto;\n",
       "}\n",
       "\n",
       ".xr-attrs dt {\n",
       "  font-weight: normal;\n",
       "  grid-column: 1;\n",
       "}\n",
       "\n",
       ".xr-attrs dt:hover span {\n",
       "  display: inline-block;\n",
       "  background: var(--xr-background-color);\n",
       "  padding-right: 10px;\n",
       "}\n",
       "\n",
       ".xr-attrs dd {\n",
       "  grid-column: 2;\n",
       "  white-space: pre-wrap;\n",
       "  word-break: break-all;\n",
       "}\n",
       "\n",
       ".xr-icon-database,\n",
       ".xr-icon-file-text2,\n",
       ".xr-no-icon {\n",
       "  display: inline-block;\n",
       "  vertical-align: middle;\n",
       "  width: 1em;\n",
       "  height: 1.5em !important;\n",
       "  stroke-width: 0;\n",
       "  stroke: currentColor;\n",
       "  fill: currentColor;\n",
       "}\n",
       "</style><pre class='xr-text-repr-fallback'>&lt;xarray.DataArray &#x27;RAINFALL&#x27; (TIME: 366, LATITUDE: 129, LONGITUDE: 135)&gt;\n",
       "[6373890 values with dtype=float64]\n",
       "Coordinates:\n",
       "  * LONGITUDE  (LONGITUDE) float64 66.5 66.75 67.0 67.25 ... 99.5 99.75 100.0\n",
       "  * LATITUDE   (LATITUDE) float64 6.5 6.75 7.0 7.25 ... 37.75 38.0 38.25 38.5\n",
       "  * TIME       (TIME) datetime64[ns] 2020-01-01 2020-01-02 ... 2020-12-31\n",
       "Attributes:\n",
       "    long_name:  Rainfall\n",
       "    units:      mm\n",
       "    history:    From ind2020_rfp25.grd</pre><div class='xr-wrap' style='display:none'><div class='xr-header'><div class='xr-obj-type'>xarray.DataArray</div><div class='xr-array-name'>'RAINFALL'</div><ul class='xr-dim-list'><li><span class='xr-has-index'>TIME</span>: 366</li><li><span class='xr-has-index'>LATITUDE</span>: 129</li><li><span class='xr-has-index'>LONGITUDE</span>: 135</li></ul></div><ul class='xr-sections'><li class='xr-section-item'><div class='xr-array-wrap'><input id='section-67347136-c979-49a8-b8d5-654b21902923' class='xr-array-in' type='checkbox' checked><label for='section-67347136-c979-49a8-b8d5-654b21902923' title='Show/hide data repr'><svg class='icon xr-icon-database'><use xlink:href='#icon-database'></use></svg></label><div class='xr-array-preview xr-preview'><span>...</span></div><div class='xr-array-data'><pre>[6373890 values with dtype=float64]</pre></div></div></li><li class='xr-section-item'><input id='section-2648e07a-a36a-4dc7-975c-badd5afdfc6e' class='xr-section-summary-in' type='checkbox'  checked><label for='section-2648e07a-a36a-4dc7-975c-badd5afdfc6e' class='xr-section-summary' >Coordinates: <span>(3)</span></label><div class='xr-section-inline-details'></div><div class='xr-section-details'><ul class='xr-var-list'><li class='xr-var-item'><div class='xr-var-name'><span class='xr-has-index'>LONGITUDE</span></div><div class='xr-var-dims'>(LONGITUDE)</div><div class='xr-var-dtype'>float64</div><div class='xr-var-preview xr-preview'>66.5 66.75 67.0 ... 99.75 100.0</div><input id='attrs-cc80b9cc-2826-4357-b53f-cfb486139d08' class='xr-var-attrs-in' type='checkbox' ><label for='attrs-cc80b9cc-2826-4357-b53f-cfb486139d08' title='Show/Hide attributes'><svg class='icon xr-icon-file-text2'><use xlink:href='#icon-file-text2'></use></svg></label><input id='data-40418e3f-59d3-439e-95f7-e04b1d0ae5d5' class='xr-var-data-in' type='checkbox'><label for='data-40418e3f-59d3-439e-95f7-e04b1d0ae5d5' title='Show/Hide data repr'><svg class='icon xr-icon-database'><use xlink:href='#icon-database'></use></svg></label><div class='xr-var-attrs'><dl class='xr-attrs'><dt><span>units :</span></dt><dd>degrees_east</dd><dt><span>point_spacing :</span></dt><dd>even</dd><dt><span>axis :</span></dt><dd>X</dd><dt><span>modulo :</span></dt><dd>360.0</dd><dt><span>standard_name :</span></dt><dd>longitude</dd></dl></div><div class='xr-var-data'><pre>array([ 66.5 ,  66.75,  67.  ,  67.25,  67.5 ,  67.75,  68.  ,  68.25,  68.5 ,\n",
       "        68.75,  69.  ,  69.25,  69.5 ,  69.75,  70.  ,  70.25,  70.5 ,  70.75,\n",
       "        71.  ,  71.25,  71.5 ,  71.75,  72.  ,  72.25,  72.5 ,  72.75,  73.  ,\n",
       "        73.25,  73.5 ,  73.75,  74.  ,  74.25,  74.5 ,  74.75,  75.  ,  75.25,\n",
       "        75.5 ,  75.75,  76.  ,  76.25,  76.5 ,  76.75,  77.  ,  77.25,  77.5 ,\n",
       "        77.75,  78.  ,  78.25,  78.5 ,  78.75,  79.  ,  79.25,  79.5 ,  79.75,\n",
       "        80.  ,  80.25,  80.5 ,  80.75,  81.  ,  81.25,  81.5 ,  81.75,  82.  ,\n",
       "        82.25,  82.5 ,  82.75,  83.  ,  83.25,  83.5 ,  83.75,  84.  ,  84.25,\n",
       "        84.5 ,  84.75,  85.  ,  85.25,  85.5 ,  85.75,  86.  ,  86.25,  86.5 ,\n",
       "        86.75,  87.  ,  87.25,  87.5 ,  87.75,  88.  ,  88.25,  88.5 ,  88.75,\n",
       "        89.  ,  89.25,  89.5 ,  89.75,  90.  ,  90.25,  90.5 ,  90.75,  91.  ,\n",
       "        91.25,  91.5 ,  91.75,  92.  ,  92.25,  92.5 ,  92.75,  93.  ,  93.25,\n",
       "        93.5 ,  93.75,  94.  ,  94.25,  94.5 ,  94.75,  95.  ,  95.25,  95.5 ,\n",
       "        95.75,  96.  ,  96.25,  96.5 ,  96.75,  97.  ,  97.25,  97.5 ,  97.75,\n",
       "        98.  ,  98.25,  98.5 ,  98.75,  99.  ,  99.25,  99.5 ,  99.75, 100.  ])</pre></div></li><li class='xr-var-item'><div class='xr-var-name'><span class='xr-has-index'>LATITUDE</span></div><div class='xr-var-dims'>(LATITUDE)</div><div class='xr-var-dtype'>float64</div><div class='xr-var-preview xr-preview'>6.5 6.75 7.0 ... 38.0 38.25 38.5</div><input id='attrs-39c4d8a1-b463-49a5-b54f-9de6d8548a36' class='xr-var-attrs-in' type='checkbox' ><label for='attrs-39c4d8a1-b463-49a5-b54f-9de6d8548a36' title='Show/Hide attributes'><svg class='icon xr-icon-file-text2'><use xlink:href='#icon-file-text2'></use></svg></label><input id='data-cf8d31ba-56a4-4c58-a29a-fb35400ce6ac' class='xr-var-data-in' type='checkbox'><label for='data-cf8d31ba-56a4-4c58-a29a-fb35400ce6ac' title='Show/Hide data repr'><svg class='icon xr-icon-database'><use xlink:href='#icon-database'></use></svg></label><div class='xr-var-attrs'><dl class='xr-attrs'><dt><span>units :</span></dt><dd>degrees_north</dd><dt><span>point_spacing :</span></dt><dd>even</dd><dt><span>axis :</span></dt><dd>Y</dd><dt><span>standard_name :</span></dt><dd>latitude</dd></dl></div><div class='xr-var-data'><pre>array([ 6.5 ,  6.75,  7.  ,  7.25,  7.5 ,  7.75,  8.  ,  8.25,  8.5 ,  8.75,\n",
       "        9.  ,  9.25,  9.5 ,  9.75, 10.  , 10.25, 10.5 , 10.75, 11.  , 11.25,\n",
       "       11.5 , 11.75, 12.  , 12.25, 12.5 , 12.75, 13.  , 13.25, 13.5 , 13.75,\n",
       "       14.  , 14.25, 14.5 , 14.75, 15.  , 15.25, 15.5 , 15.75, 16.  , 16.25,\n",
       "       16.5 , 16.75, 17.  , 17.25, 17.5 , 17.75, 18.  , 18.25, 18.5 , 18.75,\n",
       "       19.  , 19.25, 19.5 , 19.75, 20.  , 20.25, 20.5 , 20.75, 21.  , 21.25,\n",
       "       21.5 , 21.75, 22.  , 22.25, 22.5 , 22.75, 23.  , 23.25, 23.5 , 23.75,\n",
       "       24.  , 24.25, 24.5 , 24.75, 25.  , 25.25, 25.5 , 25.75, 26.  , 26.25,\n",
       "       26.5 , 26.75, 27.  , 27.25, 27.5 , 27.75, 28.  , 28.25, 28.5 , 28.75,\n",
       "       29.  , 29.25, 29.5 , 29.75, 30.  , 30.25, 30.5 , 30.75, 31.  , 31.25,\n",
       "       31.5 , 31.75, 32.  , 32.25, 32.5 , 32.75, 33.  , 33.25, 33.5 , 33.75,\n",
       "       34.  , 34.25, 34.5 , 34.75, 35.  , 35.25, 35.5 , 35.75, 36.  , 36.25,\n",
       "       36.5 , 36.75, 37.  , 37.25, 37.5 , 37.75, 38.  , 38.25, 38.5 ])</pre></div></li><li class='xr-var-item'><div class='xr-var-name'><span class='xr-has-index'>TIME</span></div><div class='xr-var-dims'>(TIME)</div><div class='xr-var-dtype'>datetime64[ns]</div><div class='xr-var-preview xr-preview'>2020-01-01 ... 2020-12-31</div><input id='attrs-7293f63d-0d02-487b-be17-9273dc22a014' class='xr-var-attrs-in' type='checkbox' ><label for='attrs-7293f63d-0d02-487b-be17-9273dc22a014' title='Show/Hide attributes'><svg class='icon xr-icon-file-text2'><use xlink:href='#icon-file-text2'></use></svg></label><input id='data-943cbb8e-ffaa-4fe8-a856-438ab155f1b2' class='xr-var-data-in' type='checkbox'><label for='data-943cbb8e-ffaa-4fe8-a856-438ab155f1b2' title='Show/Hide data repr'><svg class='icon xr-icon-database'><use xlink:href='#icon-database'></use></svg></label><div class='xr-var-attrs'><dl class='xr-attrs'><dt><span>axis :</span></dt><dd>T</dd><dt><span>time_origin :</span></dt><dd>31-DEC-1900</dd><dt><span>standard_name :</span></dt><dd>time</dd></dl></div><div class='xr-var-data'><pre>array([&#x27;2020-01-01T00:00:00.000000000&#x27;, &#x27;2020-01-02T00:00:00.000000000&#x27;,\n",
       "       &#x27;2020-01-03T00:00:00.000000000&#x27;, ..., &#x27;2020-12-29T00:00:00.000000000&#x27;,\n",
       "       &#x27;2020-12-30T00:00:00.000000000&#x27;, &#x27;2020-12-31T00:00:00.000000000&#x27;],\n",
       "      dtype=&#x27;datetime64[ns]&#x27;)</pre></div></li></ul></div></li><li class='xr-section-item'><input id='section-57987b7f-4140-4ba5-8bd7-412f2ab5b9ed' class='xr-section-summary-in' type='checkbox'  ><label for='section-57987b7f-4140-4ba5-8bd7-412f2ab5b9ed' class='xr-section-summary' >Indexes: <span>(3)</span></label><div class='xr-section-inline-details'></div><div class='xr-section-details'><ul class='xr-var-list'><li class='xr-var-item'><div class='xr-index-name'><div>LONGITUDE</div></div><div class='xr-index-preview'>PandasIndex</div><div></div><input id='index-9f2209ec-6455-41db-9828-e3b1d533a5b6' class='xr-index-data-in' type='checkbox'/><label for='index-9f2209ec-6455-41db-9828-e3b1d533a5b6' title='Show/Hide index repr'><svg class='icon xr-icon-database'><use xlink:href='#icon-database'></use></svg></label><div class='xr-index-data'><pre>PandasIndex(Float64Index([ 66.5, 66.75,  67.0, 67.25,  67.5, 67.75,  68.0, 68.25,  68.5,\n",
       "              68.75,\n",
       "              ...\n",
       "              97.75,  98.0, 98.25,  98.5, 98.75,  99.0, 99.25,  99.5, 99.75,\n",
       "              100.0],\n",
       "             dtype=&#x27;float64&#x27;, name=&#x27;LONGITUDE&#x27;, length=135))</pre></div></li><li class='xr-var-item'><div class='xr-index-name'><div>LATITUDE</div></div><div class='xr-index-preview'>PandasIndex</div><div></div><input id='index-87a58c76-4146-4f38-b8c0-2eddf308d0b5' class='xr-index-data-in' type='checkbox'/><label for='index-87a58c76-4146-4f38-b8c0-2eddf308d0b5' title='Show/Hide index repr'><svg class='icon xr-icon-database'><use xlink:href='#icon-database'></use></svg></label><div class='xr-index-data'><pre>PandasIndex(Float64Index([  6.5,  6.75,   7.0,  7.25,   7.5,  7.75,   8.0,  8.25,   8.5,\n",
       "               8.75,\n",
       "              ...\n",
       "              36.25,  36.5, 36.75,  37.0, 37.25,  37.5, 37.75,  38.0, 38.25,\n",
       "               38.5],\n",
       "             dtype=&#x27;float64&#x27;, name=&#x27;LATITUDE&#x27;, length=129))</pre></div></li><li class='xr-var-item'><div class='xr-index-name'><div>TIME</div></div><div class='xr-index-preview'>PandasIndex</div><div></div><input id='index-d7107c23-aa60-47c5-90c2-20e7c6bcdb20' class='xr-index-data-in' type='checkbox'/><label for='index-d7107c23-aa60-47c5-90c2-20e7c6bcdb20' title='Show/Hide index repr'><svg class='icon xr-icon-database'><use xlink:href='#icon-database'></use></svg></label><div class='xr-index-data'><pre>PandasIndex(DatetimeIndex([&#x27;2020-01-01&#x27;, &#x27;2020-01-02&#x27;, &#x27;2020-01-03&#x27;, &#x27;2020-01-04&#x27;,\n",
       "               &#x27;2020-01-05&#x27;, &#x27;2020-01-06&#x27;, &#x27;2020-01-07&#x27;, &#x27;2020-01-08&#x27;,\n",
       "               &#x27;2020-01-09&#x27;, &#x27;2020-01-10&#x27;,\n",
       "               ...\n",
       "               &#x27;2020-12-22&#x27;, &#x27;2020-12-23&#x27;, &#x27;2020-12-24&#x27;, &#x27;2020-12-25&#x27;,\n",
       "               &#x27;2020-12-26&#x27;, &#x27;2020-12-27&#x27;, &#x27;2020-12-28&#x27;, &#x27;2020-12-29&#x27;,\n",
       "               &#x27;2020-12-30&#x27;, &#x27;2020-12-31&#x27;],\n",
       "              dtype=&#x27;datetime64[ns]&#x27;, name=&#x27;TIME&#x27;, length=366, freq=None))</pre></div></li></ul></div></li><li class='xr-section-item'><input id='section-014d6fb5-e4a4-4b3f-86fa-60de5c309f3e' class='xr-section-summary-in' type='checkbox'  checked><label for='section-014d6fb5-e4a4-4b3f-86fa-60de5c309f3e' class='xr-section-summary' >Attributes: <span>(3)</span></label><div class='xr-section-inline-details'></div><div class='xr-section-details'><dl class='xr-attrs'><dt><span>long_name :</span></dt><dd>Rainfall</dd><dt><span>units :</span></dt><dd>mm</dd><dt><span>history :</span></dt><dd>From ind2020_rfp25.grd</dd></dl></div></li></ul></div></div>"
      ],
      "text/plain": [
       "<xarray.DataArray 'RAINFALL' (TIME: 366, LATITUDE: 129, LONGITUDE: 135)>\n",
       "[6373890 values with dtype=float64]\n",
       "Coordinates:\n",
       "  * LONGITUDE  (LONGITUDE) float64 66.5 66.75 67.0 67.25 ... 99.5 99.75 100.0\n",
       "  * LATITUDE   (LATITUDE) float64 6.5 6.75 7.0 7.25 ... 37.75 38.0 38.25 38.5\n",
       "  * TIME       (TIME) datetime64[ns] 2020-01-01 2020-01-02 ... 2020-12-31\n",
       "Attributes:\n",
       "    long_name:  Rainfall\n",
       "    units:      mm\n",
       "    history:    From ind2020_rfp25.grd"
      ]
     },
     "execution_count": 35,
     "metadata": {},
     "output_type": "execute_result"
    }
   ],
   "source": [
    "start_date = \"2020-01-01\"\n",
    "end_date = \"2020-12-31\"\n",
    "rr_2020 = data[\"RAINFALL\"].sel(\n",
    "    TIME=slice(start_date, end_date),\n",
    "    LATITUDE=slice(6.5, 38.5),\n",
    "    LONGITUDE=slice(66.5, 100.0)\n",
    ")\n",
    "rr_2020"
   ]
  },
  {
   "cell_type": "code",
   "execution_count": 36,
   "id": "4df3a553",
   "metadata": {
    "execution": {
     "iopub.execute_input": "2022-10-11T18:54:30.459317Z",
     "iopub.status.busy": "2022-10-11T18:54:30.458551Z",
     "iopub.status.idle": "2022-10-11T18:54:30.464888Z",
     "shell.execute_reply": "2022-10-11T18:54:30.464155Z"
    },
    "papermill": {
     "duration": 0.029805,
     "end_time": "2022-10-11T18:54:30.467029",
     "exception": false,
     "start_time": "2022-10-11T18:54:30.437224",
     "status": "completed"
    },
    "tags": []
   },
   "outputs": [
    {
     "data": {
      "text/plain": [
       "array([[[nan, nan, nan, ..., nan, nan, nan],\n",
       "        [nan, nan, nan, ..., nan, nan, nan],\n",
       "        [nan, nan, nan, ..., nan, nan, nan],\n",
       "        ...,\n",
       "        [nan, nan, nan, ..., nan, nan, nan],\n",
       "        [nan, nan, nan, ..., nan, nan, nan],\n",
       "        [nan, nan, nan, ..., nan, nan, nan]],\n",
       "\n",
       "       [[nan, nan, nan, ..., nan, nan, nan],\n",
       "        [nan, nan, nan, ..., nan, nan, nan],\n",
       "        [nan, nan, nan, ..., nan, nan, nan],\n",
       "        ...,\n",
       "        [nan, nan, nan, ..., nan, nan, nan],\n",
       "        [nan, nan, nan, ..., nan, nan, nan],\n",
       "        [nan, nan, nan, ..., nan, nan, nan]],\n",
       "\n",
       "       [[nan, nan, nan, ..., nan, nan, nan],\n",
       "        [nan, nan, nan, ..., nan, nan, nan],\n",
       "        [nan, nan, nan, ..., nan, nan, nan],\n",
       "        ...,\n",
       "        [nan, nan, nan, ..., nan, nan, nan],\n",
       "        [nan, nan, nan, ..., nan, nan, nan],\n",
       "        [nan, nan, nan, ..., nan, nan, nan]],\n",
       "\n",
       "       ...,\n",
       "\n",
       "       [[nan, nan, nan, ..., nan, nan, nan],\n",
       "        [nan, nan, nan, ..., nan, nan, nan],\n",
       "        [nan, nan, nan, ..., nan, nan, nan],\n",
       "        ...,\n",
       "        [nan, nan, nan, ..., nan, nan, nan],\n",
       "        [nan, nan, nan, ..., nan, nan, nan],\n",
       "        [nan, nan, nan, ..., nan, nan, nan]],\n",
       "\n",
       "       [[nan, nan, nan, ..., nan, nan, nan],\n",
       "        [nan, nan, nan, ..., nan, nan, nan],\n",
       "        [nan, nan, nan, ..., nan, nan, nan],\n",
       "        ...,\n",
       "        [nan, nan, nan, ..., nan, nan, nan],\n",
       "        [nan, nan, nan, ..., nan, nan, nan],\n",
       "        [nan, nan, nan, ..., nan, nan, nan]],\n",
       "\n",
       "       [[nan, nan, nan, ..., nan, nan, nan],\n",
       "        [nan, nan, nan, ..., nan, nan, nan],\n",
       "        [nan, nan, nan, ..., nan, nan, nan],\n",
       "        ...,\n",
       "        [nan, nan, nan, ..., nan, nan, nan],\n",
       "        [nan, nan, nan, ..., nan, nan, nan],\n",
       "        [nan, nan, nan, ..., nan, nan, nan]]])"
      ]
     },
     "execution_count": 36,
     "metadata": {},
     "output_type": "execute_result"
    }
   ],
   "source": [
    "# View the 60 data points (raster cell values) associated with the spatial and temporal subset\n",
    "rr_2020.values"
   ]
  },
  {
   "cell_type": "code",
   "execution_count": 37,
   "id": "63547079",
   "metadata": {
    "execution": {
     "iopub.execute_input": "2022-10-11T18:54:30.509601Z",
     "iopub.status.busy": "2022-10-11T18:54:30.508590Z",
     "iopub.status.idle": "2022-10-11T18:54:30.541951Z",
     "shell.execute_reply": "2022-10-11T18:54:30.540786Z"
    },
    "papermill": {
     "duration": 0.057132,
     "end_time": "2022-10-11T18:54:30.544338",
     "exception": false,
     "start_time": "2022-10-11T18:54:30.487206",
     "status": "completed"
    },
    "tags": []
   },
   "outputs": [
    {
     "data": {
      "text/html": [
       "<div>\n",
       "<style scoped>\n",
       "    .dataframe tbody tr th:only-of-type {\n",
       "        vertical-align: middle;\n",
       "    }\n",
       "\n",
       "    .dataframe tbody tr th {\n",
       "        vertical-align: top;\n",
       "    }\n",
       "\n",
       "    .dataframe thead th {\n",
       "        text-align: right;\n",
       "    }\n",
       "</style>\n",
       "<table border=\"1\" class=\"dataframe\">\n",
       "  <thead>\n",
       "    <tr style=\"text-align: right;\">\n",
       "      <th></th>\n",
       "      <th></th>\n",
       "      <th></th>\n",
       "      <th>RAINFALL</th>\n",
       "    </tr>\n",
       "    <tr>\n",
       "      <th>TIME</th>\n",
       "      <th>LATITUDE</th>\n",
       "      <th>LONGITUDE</th>\n",
       "      <th></th>\n",
       "    </tr>\n",
       "  </thead>\n",
       "  <tbody>\n",
       "    <tr>\n",
       "      <th rowspan=\"5\" valign=\"top\">2020-01-01</th>\n",
       "      <th rowspan=\"5\" valign=\"top\">6.5</th>\n",
       "      <th>66.50</th>\n",
       "      <td>NaN</td>\n",
       "    </tr>\n",
       "    <tr>\n",
       "      <th>66.75</th>\n",
       "      <td>NaN</td>\n",
       "    </tr>\n",
       "    <tr>\n",
       "      <th>67.00</th>\n",
       "      <td>NaN</td>\n",
       "    </tr>\n",
       "    <tr>\n",
       "      <th>67.25</th>\n",
       "      <td>NaN</td>\n",
       "    </tr>\n",
       "    <tr>\n",
       "      <th>67.50</th>\n",
       "      <td>NaN</td>\n",
       "    </tr>\n",
       "    <tr>\n",
       "      <th>...</th>\n",
       "      <th>...</th>\n",
       "      <th>...</th>\n",
       "      <td>...</td>\n",
       "    </tr>\n",
       "    <tr>\n",
       "      <th rowspan=\"5\" valign=\"top\">2020-12-31</th>\n",
       "      <th rowspan=\"5\" valign=\"top\">38.5</th>\n",
       "      <th>99.00</th>\n",
       "      <td>NaN</td>\n",
       "    </tr>\n",
       "    <tr>\n",
       "      <th>99.25</th>\n",
       "      <td>NaN</td>\n",
       "    </tr>\n",
       "    <tr>\n",
       "      <th>99.50</th>\n",
       "      <td>NaN</td>\n",
       "    </tr>\n",
       "    <tr>\n",
       "      <th>99.75</th>\n",
       "      <td>NaN</td>\n",
       "    </tr>\n",
       "    <tr>\n",
       "      <th>100.00</th>\n",
       "      <td>NaN</td>\n",
       "    </tr>\n",
       "  </tbody>\n",
       "</table>\n",
       "<p>6373890 rows × 1 columns</p>\n",
       "</div>"
      ],
      "text/plain": [
       "                               RAINFALL\n",
       "TIME       LATITUDE LONGITUDE          \n",
       "2020-01-01 6.5      66.50           NaN\n",
       "                    66.75           NaN\n",
       "                    67.00           NaN\n",
       "                    67.25           NaN\n",
       "                    67.50           NaN\n",
       "...                                 ...\n",
       "2020-12-31 38.5     99.00           NaN\n",
       "                    99.25           NaN\n",
       "                    99.50           NaN\n",
       "                    99.75           NaN\n",
       "                    100.00          NaN\n",
       "\n",
       "[6373890 rows x 1 columns]"
      ]
     },
     "execution_count": 37,
     "metadata": {},
     "output_type": "execute_result"
    }
   ],
   "source": [
    "# Convert to dataframe -- then this can be exported to a csv if you want that\n",
    "rr_2020_df = rr_2020.to_dataframe()\n",
    "# View just the first 5 rows of the data\n",
    "rr_2020_df"
   ]
  },
  {
   "cell_type": "code",
   "execution_count": 38,
   "id": "b6f58f63",
   "metadata": {
    "execution": {
     "iopub.execute_input": "2022-10-11T18:54:30.588281Z",
     "iopub.status.busy": "2022-10-11T18:54:30.587868Z",
     "iopub.status.idle": "2022-10-11T18:54:30.604861Z",
     "shell.execute_reply": "2022-10-11T18:54:30.603838Z"
    },
    "papermill": {
     "duration": 0.04151,
     "end_time": "2022-10-11T18:54:30.607068",
     "exception": false,
     "start_time": "2022-10-11T18:54:30.565558",
     "status": "completed"
    },
    "tags": []
   },
   "outputs": [
    {
     "data": {
      "text/html": [
       "<div>\n",
       "<style scoped>\n",
       "    .dataframe tbody tr th:only-of-type {\n",
       "        vertical-align: middle;\n",
       "    }\n",
       "\n",
       "    .dataframe tbody tr th {\n",
       "        vertical-align: top;\n",
       "    }\n",
       "\n",
       "    .dataframe thead th {\n",
       "        text-align: right;\n",
       "    }\n",
       "</style>\n",
       "<table border=\"1\" class=\"dataframe\">\n",
       "  <thead>\n",
       "    <tr style=\"text-align: right;\">\n",
       "      <th></th>\n",
       "      <th>RAINFALL</th>\n",
       "    </tr>\n",
       "  </thead>\n",
       "  <tbody>\n",
       "    <tr>\n",
       "      <th>count</th>\n",
       "      <td>1.816824e+06</td>\n",
       "    </tr>\n",
       "    <tr>\n",
       "      <th>mean</th>\n",
       "      <td>3.487696e+00</td>\n",
       "    </tr>\n",
       "    <tr>\n",
       "      <th>std</th>\n",
       "      <td>1.154617e+01</td>\n",
       "    </tr>\n",
       "    <tr>\n",
       "      <th>min</th>\n",
       "      <td>0.000000e+00</td>\n",
       "    </tr>\n",
       "    <tr>\n",
       "      <th>25%</th>\n",
       "      <td>0.000000e+00</td>\n",
       "    </tr>\n",
       "    <tr>\n",
       "      <th>50%</th>\n",
       "      <td>0.000000e+00</td>\n",
       "    </tr>\n",
       "    <tr>\n",
       "      <th>75%</th>\n",
       "      <td>9.631887e-01</td>\n",
       "    </tr>\n",
       "    <tr>\n",
       "      <th>max</th>\n",
       "      <td>5.399128e+02</td>\n",
       "    </tr>\n",
       "  </tbody>\n",
       "</table>\n",
       "</div>"
      ],
      "text/plain": [
       "           RAINFALL\n",
       "count  1.816824e+06\n",
       "mean   3.487696e+00\n",
       "std    1.154617e+01\n",
       "min    0.000000e+00\n",
       "25%    0.000000e+00\n",
       "50%    0.000000e+00\n",
       "75%    9.631887e-01\n",
       "max    5.399128e+02"
      ]
     },
     "execution_count": 38,
     "metadata": {},
     "output_type": "execute_result"
    }
   ],
   "source": [
    "rr_2020_df.describe()"
   ]
  },
  {
   "cell_type": "code",
   "execution_count": 39,
   "id": "bd119b27",
   "metadata": {
    "execution": {
     "iopub.execute_input": "2022-10-11T18:54:30.651224Z",
     "iopub.status.busy": "2022-10-11T18:54:30.650792Z",
     "iopub.status.idle": "2022-10-11T18:54:30.874671Z",
     "shell.execute_reply": "2022-10-11T18:54:30.873502Z"
    },
    "papermill": {
     "duration": 0.248138,
     "end_time": "2022-10-11T18:54:30.876839",
     "exception": false,
     "start_time": "2022-10-11T18:54:30.628701",
     "status": "completed"
    },
    "tags": []
   },
   "outputs": [
    {
     "data": {
      "image/png": "[encoded data removed]",
      "text/plain": [
       "<Figure size 640x480 with 1 Axes>"
      ]
     },
     "metadata": {},
     "output_type": "display_data"
    }
   ],
   "source": [
    "rr_2020_df['RAINFALL'].plot(kind='line')\n",
    "plt.show()"
   ]
  },
  {
   "cell_type": "code",
   "execution_count": 41,
   "id": "b36f2813",
   "metadata": {
    "execution": {
     "iopub.execute_input": "2022-10-11T18:54:30.921967Z",
     "iopub.status.busy": "2022-10-11T18:54:30.921555Z",
     "iopub.status.idle": "2022-10-11T18:54:30.928360Z",
     "shell.execute_reply": "2022-10-11T18:54:30.927300Z"
    },
    "papermill": {
     "duration": 0.031986,
     "end_time": "2022-10-11T18:54:30.930632",
     "exception": false,
     "start_time": "2022-10-11T18:54:30.898646",
     "status": "completed"
    },
    "tags": []
   },
   "outputs": [
    {
     "data": {
      "text/plain": [
       "(6373890,)"
      ]
     },
     "execution_count": 41,
     "metadata": {},
     "output_type": "execute_result"
    }
   ],
   "source": [
    "rr_2020_df['RAINFALL'].shape"
   ]
  },
  {
   "cell_type": "code",
   "execution_count": 42,
   "id": "ea03dc3b",
   "metadata": {
    "execution": {
     "iopub.execute_input": "2022-10-11T18:54:30.975702Z",
     "iopub.status.busy": "2022-10-11T18:54:30.975306Z",
     "iopub.status.idle": "2022-10-11T18:54:31.014751Z",
     "shell.execute_reply": "2022-10-11T18:54:31.013370Z"
    },
    "papermill": {
     "duration": 0.065079,
     "end_time": "2022-10-11T18:54:31.017331",
     "exception": false,
     "start_time": "2022-10-11T18:54:30.952252",
     "status": "completed"
    },
    "tags": []
   },
   "outputs": [
    {
     "data": {
      "text/html": [
       "<div>\n",
       "<style scoped>\n",
       "    .dataframe tbody tr th:only-of-type {\n",
       "        vertical-align: middle;\n",
       "    }\n",
       "\n",
       "    .dataframe tbody tr th {\n",
       "        vertical-align: top;\n",
       "    }\n",
       "\n",
       "    .dataframe thead th {\n",
       "        text-align: right;\n",
       "    }\n",
       "</style>\n",
       "<table border=\"1\" class=\"dataframe\">\n",
       "  <thead>\n",
       "    <tr style=\"text-align: right;\">\n",
       "      <th></th>\n",
       "      <th></th>\n",
       "      <th></th>\n",
       "      <th>RAINFALL</th>\n",
       "      <th>rr_one_day</th>\n",
       "      <th>rr_two_day</th>\n",
       "      <th>rr_three_day</th>\n",
       "      <th>rr_four_day</th>\n",
       "      <th>rr_five_day</th>\n",
       "      <th>rr_six_day</th>\n",
       "      <th>rr_seven_day</th>\n",
       "    </tr>\n",
       "    <tr>\n",
       "      <th>TIME</th>\n",
       "      <th>LATITUDE</th>\n",
       "      <th>LONGITUDE</th>\n",
       "      <th></th>\n",
       "      <th></th>\n",
       "      <th></th>\n",
       "      <th></th>\n",
       "      <th></th>\n",
       "      <th></th>\n",
       "      <th></th>\n",
       "      <th></th>\n",
       "    </tr>\n",
       "  </thead>\n",
       "  <tbody>\n",
       "    <tr>\n",
       "      <th rowspan=\"5\" valign=\"top\">2020-01-01</th>\n",
       "      <th rowspan=\"5\" valign=\"top\">6.5</th>\n",
       "      <th>66.50</th>\n",
       "      <td>NaN</td>\n",
       "      <td>NaN</td>\n",
       "      <td>NaN</td>\n",
       "      <td>NaN</td>\n",
       "      <td>NaN</td>\n",
       "      <td>NaN</td>\n",
       "      <td>NaN</td>\n",
       "      <td>NaN</td>\n",
       "    </tr>\n",
       "    <tr>\n",
       "      <th>66.75</th>\n",
       "      <td>NaN</td>\n",
       "      <td>NaN</td>\n",
       "      <td>NaN</td>\n",
       "      <td>NaN</td>\n",
       "      <td>NaN</td>\n",
       "      <td>NaN</td>\n",
       "      <td>NaN</td>\n",
       "      <td>NaN</td>\n",
       "    </tr>\n",
       "    <tr>\n",
       "      <th>67.00</th>\n",
       "      <td>NaN</td>\n",
       "      <td>NaN</td>\n",
       "      <td>NaN</td>\n",
       "      <td>NaN</td>\n",
       "      <td>NaN</td>\n",
       "      <td>NaN</td>\n",
       "      <td>NaN</td>\n",
       "      <td>NaN</td>\n",
       "    </tr>\n",
       "    <tr>\n",
       "      <th>67.25</th>\n",
       "      <td>NaN</td>\n",
       "      <td>NaN</td>\n",
       "      <td>NaN</td>\n",
       "      <td>NaN</td>\n",
       "      <td>NaN</td>\n",
       "      <td>NaN</td>\n",
       "      <td>NaN</td>\n",
       "      <td>NaN</td>\n",
       "    </tr>\n",
       "    <tr>\n",
       "      <th>67.50</th>\n",
       "      <td>NaN</td>\n",
       "      <td>NaN</td>\n",
       "      <td>NaN</td>\n",
       "      <td>NaN</td>\n",
       "      <td>NaN</td>\n",
       "      <td>NaN</td>\n",
       "      <td>NaN</td>\n",
       "      <td>NaN</td>\n",
       "    </tr>\n",
       "    <tr>\n",
       "      <th>...</th>\n",
       "      <th>...</th>\n",
       "      <th>...</th>\n",
       "      <td>...</td>\n",
       "      <td>...</td>\n",
       "      <td>...</td>\n",
       "      <td>...</td>\n",
       "      <td>...</td>\n",
       "      <td>...</td>\n",
       "      <td>...</td>\n",
       "      <td>...</td>\n",
       "    </tr>\n",
       "    <tr>\n",
       "      <th rowspan=\"5\" valign=\"top\">2020-12-31</th>\n",
       "      <th rowspan=\"5\" valign=\"top\">38.5</th>\n",
       "      <th>99.00</th>\n",
       "      <td>NaN</td>\n",
       "      <td>NaN</td>\n",
       "      <td>NaN</td>\n",
       "      <td>NaN</td>\n",
       "      <td>NaN</td>\n",
       "      <td>NaN</td>\n",
       "      <td>NaN</td>\n",
       "      <td>NaN</td>\n",
       "    </tr>\n",
       "    <tr>\n",
       "      <th>99.25</th>\n",
       "      <td>NaN</td>\n",
       "      <td>NaN</td>\n",
       "      <td>NaN</td>\n",
       "      <td>NaN</td>\n",
       "      <td>NaN</td>\n",
       "      <td>NaN</td>\n",
       "      <td>NaN</td>\n",
       "      <td>NaN</td>\n",
       "    </tr>\n",
       "    <tr>\n",
       "      <th>99.50</th>\n",
       "      <td>NaN</td>\n",
       "      <td>NaN</td>\n",
       "      <td>NaN</td>\n",
       "      <td>NaN</td>\n",
       "      <td>NaN</td>\n",
       "      <td>NaN</td>\n",
       "      <td>NaN</td>\n",
       "      <td>NaN</td>\n",
       "    </tr>\n",
       "    <tr>\n",
       "      <th>99.75</th>\n",
       "      <td>NaN</td>\n",
       "      <td>NaN</td>\n",
       "      <td>NaN</td>\n",
       "      <td>NaN</td>\n",
       "      <td>NaN</td>\n",
       "      <td>NaN</td>\n",
       "      <td>NaN</td>\n",
       "      <td>NaN</td>\n",
       "    </tr>\n",
       "    <tr>\n",
       "      <th>100.00</th>\n",
       "      <td>NaN</td>\n",
       "      <td>NaN</td>\n",
       "      <td>NaN</td>\n",
       "      <td>NaN</td>\n",
       "      <td>NaN</td>\n",
       "      <td>NaN</td>\n",
       "      <td>NaN</td>\n",
       "      <td>NaN</td>\n",
       "    </tr>\n",
       "  </tbody>\n",
       "</table>\n",
       "<p>6373890 rows × 8 columns</p>\n",
       "</div>"
      ],
      "text/plain": [
       "                               RAINFALL  rr_one_day  rr_two_day  rr_three_day  \\\n",
       "TIME       LATITUDE LONGITUDE                                                   \n",
       "2020-01-01 6.5      66.50           NaN         NaN         NaN           NaN   \n",
       "                    66.75           NaN         NaN         NaN           NaN   \n",
       "                    67.00           NaN         NaN         NaN           NaN   \n",
       "                    67.25           NaN         NaN         NaN           NaN   \n",
       "                    67.50           NaN         NaN         NaN           NaN   \n",
       "...                                 ...         ...         ...           ...   \n",
       "2020-12-31 38.5     99.00           NaN         NaN         NaN           NaN   \n",
       "                    99.25           NaN         NaN         NaN           NaN   \n",
       "                    99.50           NaN         NaN         NaN           NaN   \n",
       "                    99.75           NaN         NaN         NaN           NaN   \n",
       "                    100.00          NaN         NaN         NaN           NaN   \n",
       "\n",
       "                               rr_four_day  rr_five_day  rr_six_day  \\\n",
       "TIME       LATITUDE LONGITUDE                                         \n",
       "2020-01-01 6.5      66.50              NaN          NaN         NaN   \n",
       "                    66.75              NaN          NaN         NaN   \n",
       "                    67.00              NaN          NaN         NaN   \n",
       "                    67.25              NaN          NaN         NaN   \n",
       "                    67.50              NaN          NaN         NaN   \n",
       "...                                    ...          ...         ...   \n",
       "2020-12-31 38.5     99.00              NaN          NaN         NaN   \n",
       "                    99.25              NaN          NaN         NaN   \n",
       "                    99.50              NaN          NaN         NaN   \n",
       "                    99.75              NaN          NaN         NaN   \n",
       "                    100.00             NaN          NaN         NaN   \n",
       "\n",
       "                               rr_seven_day  \n",
       "TIME       LATITUDE LONGITUDE                \n",
       "2020-01-01 6.5      66.50               NaN  \n",
       "                    66.75               NaN  \n",
       "                    67.00               NaN  \n",
       "                    67.25               NaN  \n",
       "                    67.50               NaN  \n",
       "...                                     ...  \n",
       "2020-12-31 38.5     99.00               NaN  \n",
       "                    99.25               NaN  \n",
       "                    99.50               NaN  \n",
       "                    99.75               NaN  \n",
       "                    100.00              NaN  \n",
       "\n",
       "[6373890 rows x 8 columns]"
      ]
     },
     "execution_count": 42,
     "metadata": {},
     "output_type": "execute_result"
    }
   ],
   "source": [
    "rr_2020_df['rr_one_day'] = rr_2020_df['RAINFALL'].shift(+1)\n",
    "rr_2020_df['rr_two_day'] = rr_2020_df['RAINFALL'].shift(+2)\n",
    "rr_2020_df['rr_three_day'] = rr_2020_df['RAINFALL'].shift(+3)\n",
    "rr_2020_df['rr_four_day'] = rr_2020_df['RAINFALL'].shift(+4)\n",
    "rr_2020_df['rr_five_day'] = rr_2020_df['RAINFALL'].shift(+5)\n",
    "rr_2020_df['rr_six_day'] = rr_2020_df['RAINFALL'].shift(+6)\n",
    "rr_2020_df['rr_seven_day'] = rr_2020_df['RAINFALL'].shift(+7)\n",
    "rr_2020_df"
   ]
  },
  {
   "cell_type": "code",
   "execution_count": 43,
   "id": "8da157c8",
   "metadata": {
    "execution": {
     "iopub.execute_input": "2022-10-11T18:54:31.064133Z",
     "iopub.status.busy": "2022-10-11T18:54:31.063050Z",
     "iopub.status.idle": "2022-10-11T18:54:31.070997Z",
     "shell.execute_reply": "2022-10-11T18:54:31.070078Z"
    },
    "papermill": {
     "duration": 0.033375,
     "end_time": "2022-10-11T18:54:31.073042",
     "exception": false,
     "start_time": "2022-10-11T18:54:31.039667",
     "status": "completed"
    },
    "tags": []
   },
   "outputs": [],
   "source": [
    "rr_2020_df = rr_2020_df.dropna()"
   ]
  },
  {
   "cell_type": "code",
   "execution_count": 44,
   "id": "203da827",
   "metadata": {
    "execution": {
     "iopub.execute_input": "2022-10-11T18:54:31.119102Z",
     "iopub.status.busy": "2022-10-11T18:54:31.118642Z",
     "iopub.status.idle": "2022-10-11T18:54:31.124893Z",
     "shell.execute_reply": "2022-10-11T18:54:31.123863Z"
    },
    "papermill": {
     "duration": 0.03181,
     "end_time": "2022-10-11T18:54:31.127036",
     "exception": false,
     "start_time": "2022-10-11T18:54:31.095226",
     "status": "completed"
    },
    "tags": []
   },
   "outputs": [],
   "source": [
    "from xgboost.sklearn import XGBClassifier\n",
    "from sklearn.ensemble import RandomForestRegressor\n",
    "rf_model = RandomForestRegressor(n_estimators=200, max_features=3, random_state=3 )\n",
    "\n",
    "#Boosted Decision Tree\n",
    "from sklearn.ensemble import GradientBoostingRegressor\n",
    "GB_reg = GradientBoostingRegressor(n_estimators=100,max_features=3, random_state=1)\n",
    "\n",
    "#XGB Regression Model\n",
    "xgb_reg = XGBRegressor(n_estimators=100, learning_rate=0.01)"
   ]
  },
  {
   "cell_type": "code",
   "execution_count": 46,
   "id": "1d286b6c",
   "metadata": {
    "execution": {
     "iopub.execute_input": "2022-10-11T18:54:31.172560Z",
     "iopub.status.busy": "2022-10-11T18:54:31.172143Z",
     "iopub.status.idle": "2022-10-11T18:54:31.183854Z",
     "shell.execute_reply": "2022-10-11T18:54:31.182896Z"
    },
    "papermill": {
     "duration": 0.038255,
     "end_time": "2022-10-11T18:54:31.187303",
     "exception": false,
     "start_time": "2022-10-11T18:54:31.149048",
     "status": "completed"
    },
    "tags": []
   },
   "outputs": [
    {
     "name": "stdout",
     "output_type": "stream",
     "text": [
      "[[0. 0. 0. ... 0. 0. 0.]\n",
      " [0. 0. 0. ... 0. 0. 0.]\n",
      " [0. 0. 0. ... 0. 0. 0.]\n",
      " ...\n",
      " [0. 0. 0. ... 0. 0. 0.]\n",
      " [0. 0. 0. ... 0. 0. 0.]\n",
      " [0. 0. 0. ... 0. 0. 0.]]\n"
     ]
    }
   ],
   "source": [
    "# we select feature variables from are x1,x2,x3 and y is as target variable. here we take 'meantemp' as our target variable\n",
    "x1 ,x2, x3, x4, x5, x6, x7, y = rr_2020_df['rr_one_day'], rr_2020_df['rr_two_day'],rr_2020_df['rr_three_day'], rr_2020_df['rr_four_day'], rr_2020_df['rr_five_day'], rr_2020_df['rr_six_day'], rr_2020_df['rr_seven_day'], rr_2020_df['RAINFALL']\n",
    "x1 ,x2, x3, x4, x5, x6, x7, y = np.array(x1), np.array(x2), np.array(x3),np.array(x4), np.array(x5), np.array(x6), np.array(x7),np.array(y)\n",
    "x1 ,x2, x3, x4, x5, x6, x7, y= x1.reshape(-1,1), x2.reshape(-1,1), x3.reshape(-1,1),  x4.reshape(-1,1),  x5.reshape(-1,1),  x6.reshape(-1,1),  x7.reshape(-1,1),   y.reshape(-1,1)\n",
    "final_x = np.concatenate((x1,x2,x3,x4,x5, x6, x7), axis=1)\n",
    "print(final_x)"
   ]
  },
  {
   "cell_type": "code",
   "execution_count": 47,
   "id": "04815120",
   "metadata": {
    "execution": {
     "iopub.execute_input": "2022-10-11T18:54:31.234360Z",
     "iopub.status.busy": "2022-10-11T18:54:31.233915Z",
     "iopub.status.idle": "2022-10-11T18:54:31.239513Z",
     "shell.execute_reply": "2022-10-11T18:54:31.238343Z"
    },
    "papermill": {
     "duration": 0.031254,
     "end_time": "2022-10-11T18:54:31.241699",
     "exception": false,
     "start_time": "2022-10-11T18:54:31.210445",
     "status": "completed"
    },
    "tags": []
   },
   "outputs": [],
   "source": [
    "#Split data into test and train, we choose last 90 days as test dataset, the remaining dataset we take as train dataset\n",
    "x_train, x_test, y_train, y_test = final_x[:-100], final_x[-100:], y[:-100], y[-100:]"
   ]
  },
  {
   "cell_type": "code",
   "execution_count": 48,
   "id": "8e0b432d",
   "metadata": {
    "execution": {
     "iopub.execute_input": "2022-10-11T18:54:31.288392Z",
     "iopub.status.busy": "2022-10-11T18:54:31.287597Z",
     "iopub.status.idle": "2022-10-11T18:54:33.198693Z",
     "shell.execute_reply": "2022-10-11T18:54:33.197685Z"
    },
    "papermill": {
     "duration": 1.937217,
     "end_time": "2022-10-11T18:54:33.201212",
     "exception": false,
     "start_time": "2022-10-11T18:54:31.263995",
     "status": "completed"
    },
    "tags": []
   },
   "outputs": [
    {
     "name": "stderr",
     "output_type": "stream",
     "text": [
      "C:\\Users\\bhuva\\AppData\\Local\\Temp\\ipykernel_14228\\1670470341.py:2: DataConversionWarning: A column-vector y was passed when a 1d array was expected. Please change the shape of y to (n_samples,), for example using ravel().\n",
      "  rf_model.fit(x_train, y_train)\n",
      "c:\\Users\\bhuva\\AppData\\Local\\Programs\\Python\\Python310\\lib\\site-packages\\sklearn\\ensemble\\_gb.py:570: DataConversionWarning: A column-vector y was passed when a 1d array was expected. Please change the shape of y to (n_samples, ), for example using ravel().\n",
      "  y = column_or_1d(y, warn=True)\n"
     ]
    }
   ],
   "source": [
    "#fitting models on train dataset\n",
    "rf_model.fit(x_train, y_train)\n",
    "GB_reg = GB_reg.fit(x_train, y_train)\n",
    "xgb_reg = xgb_reg.fit(x_train, y_train)"
   ]
  },
  {
   "cell_type": "code",
   "execution_count": 49,
   "id": "b552465b",
   "metadata": {
    "execution": {
     "iopub.execute_input": "2022-10-11T18:54:33.247940Z",
     "iopub.status.busy": "2022-10-11T18:54:33.247551Z",
     "iopub.status.idle": "2022-10-11T18:54:33.252684Z",
     "shell.execute_reply": "2022-10-11T18:54:33.251504Z"
    },
    "papermill": {
     "duration": 0.030601,
     "end_time": "2022-10-11T18:54:33.254886",
     "exception": false,
     "start_time": "2022-10-11T18:54:33.224285",
     "status": "completed"
    },
    "tags": []
   },
   "outputs": [],
   "source": [
    "training_subdata = final_x[3718:3918]\n",
    "training_taget = y[3718:3918]"
   ]
  },
  {
   "cell_type": "code",
   "execution_count": 50,
   "id": "2762da98",
   "metadata": {
    "execution": {
     "iopub.execute_input": "2022-10-11T18:54:33.300746Z",
     "iopub.status.busy": "2022-10-11T18:54:33.300047Z",
     "iopub.status.idle": "2022-10-11T18:54:33.307299Z",
     "shell.execute_reply": "2022-10-11T18:54:33.306419Z"
    },
    "papermill": {
     "duration": 0.032479,
     "end_time": "2022-10-11T18:54:33.309473",
     "exception": false,
     "start_time": "2022-10-11T18:54:33.276994",
     "status": "completed"
    },
    "tags": []
   },
   "outputs": [
    {
     "data": {
      "text/plain": [
       "array([[0.        , 0.        , 0.        , ..., 0.        , 0.        ,\n",
       "        0.        ],\n",
       "       [0.        , 0.        , 0.        , ..., 0.        , 0.        ,\n",
       "        0.        ],\n",
       "       [0.        , 0.        , 0.        , ..., 0.        , 0.        ,\n",
       "        0.        ],\n",
       "       ...,\n",
       "       [0.11178241, 0.        , 0.        , ..., 0.        , 0.        ,\n",
       "        0.        ],\n",
       "       [0.        , 0.11178241, 0.        , ..., 0.        , 0.        ,\n",
       "        0.        ],\n",
       "       [0.        , 0.        , 0.        , ..., 0.        , 0.        ,\n",
       "        0.        ]])"
      ]
     },
     "execution_count": 50,
     "metadata": {},
     "output_type": "execute_result"
    }
   ],
   "source": [
    "training_subdata"
   ]
  },
  {
   "cell_type": "markdown",
   "id": "e4ea203f",
   "metadata": {
    "papermill": {
     "duration": 0.021902,
     "end_time": "2022-10-11T18:54:33.353651",
     "exception": false,
     "start_time": "2022-10-11T18:54:33.331749",
     "status": "completed"
    },
    "tags": []
   },
   "source": [
    "## **Random Forest Model**"
   ]
  },
  {
   "cell_type": "code",
   "execution_count": 51,
   "id": "f25bb9b9",
   "metadata": {
    "execution": {
     "iopub.execute_input": "2022-10-11T18:54:33.401508Z",
     "iopub.status.busy": "2022-10-11T18:54:33.400492Z",
     "iopub.status.idle": "2022-10-11T18:54:33.429526Z",
     "shell.execute_reply": "2022-10-11T18:54:33.428419Z"
    },
    "papermill": {
     "duration": 0.055395,
     "end_time": "2022-10-11T18:54:33.431945",
     "exception": false,
     "start_time": "2022-10-11T18:54:33.376550",
     "status": "completed"
    },
    "tags": []
   },
   "outputs": [],
   "source": [
    "#predictions of models\n",
    "pred = rf_model.predict(x_test)"
   ]
  },
  {
   "cell_type": "code",
   "execution_count": 52,
   "id": "fff8a3cc",
   "metadata": {
    "execution": {
     "iopub.execute_input": "2022-10-11T18:54:33.478319Z",
     "iopub.status.busy": "2022-10-11T18:54:33.477896Z",
     "iopub.status.idle": "2022-10-11T18:54:33.510515Z",
     "shell.execute_reply": "2022-10-11T18:54:33.509413Z"
    },
    "papermill": {
     "duration": 0.058744,
     "end_time": "2022-10-11T18:54:33.513105",
     "exception": false,
     "start_time": "2022-10-11T18:54:33.454361",
     "status": "completed"
    },
    "tags": []
   },
   "outputs": [],
   "source": [
    "#predictions on train dataset for checking the training performance\n",
    "train_pred_rf = rf_model.predict(training_subdata)"
   ]
  },
  {
   "cell_type": "code",
   "execution_count": 53,
   "id": "90d346c9",
   "metadata": {
    "execution": {
     "iopub.execute_input": "2022-10-11T18:54:33.560676Z",
     "iopub.status.busy": "2022-10-11T18:54:33.560273Z",
     "iopub.status.idle": "2022-10-11T18:54:33.843235Z",
     "shell.execute_reply": "2022-10-11T18:54:33.842212Z"
    },
    "papermill": {
     "duration": 0.309859,
     "end_time": "2022-10-11T18:54:33.846056",
     "exception": false,
     "start_time": "2022-10-11T18:54:33.536197",
     "status": "completed"
    },
    "tags": []
   },
   "outputs": [
    {
     "data": {
      "image/png": "[encoded data removed]",
      "text/plain": [
       "<Figure size 1200x800 with 1 Axes>"
      ]
     },
     "metadata": {},
     "output_type": "display_data"
    }
   ],
   "source": [
    "pred = rf_model.predict(x_test)\n",
    "plt.rcParams['figure.figsize'] = (12,8)\n",
    "plt.plot(pred, label='Predicted value')\n",
    "plt.plot(y_test, label='actual value')\n",
    "plt.legend(loc =\"upper left\")\n",
    "plt.title('Random Forest Model')\n",
    "plt.xlabel('Test data')\n",
    "plt.ylabel('mm / Day')\n",
    "plt.show()"
   ]
  },
  {
   "cell_type": "markdown",
   "id": "dd95343e",
   "metadata": {
    "papermill": {
     "duration": 0.02308,
     "end_time": "2022-10-11T18:54:33.892972",
     "exception": false,
     "start_time": "2022-10-11T18:54:33.869892",
     "status": "completed"
    },
    "tags": []
   },
   "source": [
    "## **Gradient Boosted Regression**"
   ]
  },
  {
   "cell_type": "code",
   "execution_count": 54,
   "id": "114602d1",
   "metadata": {
    "execution": {
     "iopub.execute_input": "2022-10-11T18:54:33.941215Z",
     "iopub.status.busy": "2022-10-11T18:54:33.940790Z",
     "iopub.status.idle": "2022-10-11T18:54:33.946237Z",
     "shell.execute_reply": "2022-10-11T18:54:33.945202Z"
    },
    "papermill": {
     "duration": 0.032028,
     "end_time": "2022-10-11T18:54:33.948328",
     "exception": false,
     "start_time": "2022-10-11T18:54:33.916300",
     "status": "completed"
    },
    "tags": []
   },
   "outputs": [],
   "source": [
    "#predictions of models\n",
    "y_pred_GB_reg = GB_reg.predict(x_test)"
   ]
  },
  {
   "cell_type": "code",
   "execution_count": 55,
   "id": "044d3953",
   "metadata": {
    "execution": {
     "iopub.execute_input": "2022-10-11T18:54:33.996383Z",
     "iopub.status.busy": "2022-10-11T18:54:33.995947Z",
     "iopub.status.idle": "2022-10-11T18:54:34.001565Z",
     "shell.execute_reply": "2022-10-11T18:54:34.000521Z"
    },
    "papermill": {
     "duration": 0.031997,
     "end_time": "2022-10-11T18:54:34.003668",
     "exception": false,
     "start_time": "2022-10-11T18:54:33.971671",
     "status": "completed"
    },
    "tags": []
   },
   "outputs": [],
   "source": [
    "#predictions on train dataset for checking the training performance\n",
    "train_pred_GB = GB_reg.predict(training_subdata)"
   ]
  },
  {
   "cell_type": "code",
   "execution_count": 56,
   "id": "5b899520",
   "metadata": {
    "execution": {
     "iopub.execute_input": "2022-10-11T18:54:34.051856Z",
     "iopub.status.busy": "2022-10-11T18:54:34.051457Z",
     "iopub.status.idle": "2022-10-11T18:54:34.310000Z",
     "shell.execute_reply": "2022-10-11T18:54:34.308934Z"
    },
    "papermill": {
     "duration": 0.285193,
     "end_time": "2022-10-11T18:54:34.312121",
     "exception": false,
     "start_time": "2022-10-11T18:54:34.026928",
     "status": "completed"
    },
    "tags": []
   },
   "outputs": [
    {
     "data": {
      "image/png": "[encoded data removed]",
      "text/plain": [
       "<Figure size 1200x800 with 1 Axes>"
      ]
     },
     "metadata": {},
     "output_type": "display_data"
    }
   ],
   "source": [
    "plt.rcParams['figure.figsize'] = (12,8)\n",
    "plt.plot(y_pred_GB_reg, label='Predicted value')\n",
    "plt.plot(y_test, label='actual value')\n",
    "plt.legend(loc =\"upper left\")\n",
    "plt.title('Boosted Decision Tree')\n",
    "plt.xlabel('Test data ')\n",
    "plt.ylabel('mm / Day')\n",
    "plt.show()"
   ]
  },
  {
   "cell_type": "markdown",
   "id": "21fdd2d0",
   "metadata": {
    "papermill": {
     "duration": 0.024768,
     "end_time": "2022-10-11T18:54:34.361878",
     "exception": false,
     "start_time": "2022-10-11T18:54:34.337110",
     "status": "completed"
    },
    "tags": []
   },
   "source": [
    "# **XGBoost Regression**"
   ]
  },
  {
   "cell_type": "code",
   "execution_count": 57,
   "id": "07d5d41d",
   "metadata": {
    "execution": {
     "iopub.execute_input": "2022-10-11T18:54:34.414287Z",
     "iopub.status.busy": "2022-10-11T18:54:34.413219Z",
     "iopub.status.idle": "2022-10-11T18:54:34.422713Z",
     "shell.execute_reply": "2022-10-11T18:54:34.421832Z"
    },
    "papermill": {
     "duration": 0.038339,
     "end_time": "2022-10-11T18:54:34.425408",
     "exception": false,
     "start_time": "2022-10-11T18:54:34.387069",
     "status": "completed"
    },
    "tags": []
   },
   "outputs": [],
   "source": [
    "#predictions of models\n",
    "y_pred_XGB_reg= xgb_reg.predict(x_test)"
   ]
  },
  {
   "cell_type": "code",
   "execution_count": 58,
   "id": "0a4a8c4a",
   "metadata": {
    "execution": {
     "iopub.execute_input": "2022-10-11T18:54:34.476915Z",
     "iopub.status.busy": "2022-10-11T18:54:34.476394Z",
     "iopub.status.idle": "2022-10-11T18:54:34.484858Z",
     "shell.execute_reply": "2022-10-11T18:54:34.483887Z"
    },
    "papermill": {
     "duration": 0.036899,
     "end_time": "2022-10-11T18:54:34.487179",
     "exception": false,
     "start_time": "2022-10-11T18:54:34.450280",
     "status": "completed"
    },
    "tags": []
   },
   "outputs": [],
   "source": [
    "#predictions on train dataset for checking the training performance\n",
    "train_pred_XGB = xgb_reg.predict(training_subdata)"
   ]
  },
  {
   "cell_type": "code",
   "execution_count": 59,
   "id": "396ad99a",
   "metadata": {
    "execution": {
     "iopub.execute_input": "2022-10-11T18:54:34.538897Z",
     "iopub.status.busy": "2022-10-11T18:54:34.538232Z",
     "iopub.status.idle": "2022-10-11T18:54:34.793286Z",
     "shell.execute_reply": "2022-10-11T18:54:34.792183Z"
    },
    "papermill": {
     "duration": 0.283277,
     "end_time": "2022-10-11T18:54:34.795411",
     "exception": false,
     "start_time": "2022-10-11T18:54:34.512134",
     "status": "completed"
    },
    "tags": []
   },
   "outputs": [
    {
     "data": {
      "image/png": "[encoded data removed]",
      "text/plain": [
       "<Figure size 1200x800 with 1 Axes>"
      ]
     },
     "metadata": {},
     "output_type": "display_data"
    }
   ],
   "source": [
    "plt.rcParams['figure.figsize'] = (12,8)\n",
    "plt.plot(y_pred_XGB_reg, label='Predicted value')\n",
    "plt.plot(y_test, label='actual value')\n",
    "plt.legend(loc =\"upper left\")\n",
    "plt.title('XGB Regression Model')\n",
    "plt.xlabel('Test data ')\n",
    "plt.ylabel('mm / Day')\n",
    "plt.show()"
   ]
  },
  {
   "cell_type": "markdown",
   "id": "d4291cf1",
   "metadata": {
    "papermill": {
     "duration": 0.025736,
     "end_time": "2022-10-11T18:54:34.847337",
     "exception": false,
     "start_time": "2022-10-11T18:54:34.821601",
     "status": "completed"
    },
    "tags": []
   },
   "source": [
    "**Comparing the performance of Models by MSE and RMSE**"
   ]
  },
  {
   "cell_type": "code",
   "execution_count": 60,
   "id": "ac462219",
   "metadata": {
    "execution": {
     "iopub.execute_input": "2022-10-11T18:54:34.901934Z",
     "iopub.status.busy": "2022-10-11T18:54:34.900826Z",
     "iopub.status.idle": "2022-10-11T18:54:34.909934Z",
     "shell.execute_reply": "2022-10-11T18:54:34.908307Z"
    },
    "papermill": {
     "duration": 0.038784,
     "end_time": "2022-10-11T18:54:34.912272",
     "exception": false,
     "start_time": "2022-10-11T18:54:34.873488",
     "status": "completed"
    },
    "tags": []
   },
   "outputs": [
    {
     "name": "stdout",
     "output_type": "stream",
     "text": [
      "Mean squared error of decision random foreset: 0.0\n",
      "Mean squared error of Boosted decision tree regression: 0.0\n",
      "Mean squared error of XGB regression: 0.0\n"
     ]
    }
   ],
   "source": [
    "from sklearn.metrics import mean_squared_error \n",
    "mse_drf = np.round(mean_squared_error(pred, y_test))\n",
    "mse_gb = np.round(mean_squared_error(y_pred_GB_reg, y_test))\n",
    "mse_xgb = np.round(mean_squared_error(y_pred_XGB_reg, y_test))\n",
    "print('Mean squared error of decision random foreset:', mse_drf)\n",
    "print('Mean squared error of Boosted decision tree regression:', mse_gb)\n",
    "print('Mean squared error of XGB regression:', mse_gb)"
   ]
  },
  {
   "cell_type": "markdown",
   "id": "f94dccc7",
   "metadata": {
    "papermill": {
     "duration": 0.025821,
     "end_time": "2022-10-11T18:54:34.964492",
     "exception": false,
     "start_time": "2022-10-11T18:54:34.938671",
     "status": "completed"
    },
    "tags": []
   },
   "source": []
  },
  {
   "cell_type": "code",
   "execution_count": 61,
   "id": "de7543fd",
   "metadata": {
    "execution": {
     "iopub.execute_input": "2022-10-11T18:54:35.019298Z",
     "iopub.status.busy": "2022-10-11T18:54:35.018188Z",
     "iopub.status.idle": "2022-10-11T18:54:35.027874Z",
     "shell.execute_reply": "2022-10-11T18:54:35.026473Z"
    },
    "papermill": {
     "duration": 0.039461,
     "end_time": "2022-10-11T18:54:35.030230",
     "exception": false,
     "start_time": "2022-10-11T18:54:34.990769",
     "status": "completed"
    },
    "tags": []
   },
   "outputs": [
    {
     "name": "stdout",
     "output_type": "stream",
     "text": [
      "\n",
      "RMSE of random forest:  0.039\n",
      "\n",
      "RMSE of Boosted Regression:  0.042\n",
      "\n",
      "RMSE of XGBoosted Regression:  0.214\n"
     ]
    }
   ],
   "source": [
    "#Predicting the target values of the test set\n",
    "# RMSE (Root Mean Square Error)\n",
    "rmse_rf = float(format(np.sqrt(mean_squared_error(y_test, pred)), '.3f'))\n",
    "rmse_GB = float(format(np.sqrt(mean_squared_error(y_pred_GB_reg, y_test)), '.3f'))\n",
    "rmse_XGB = float(format(np.sqrt(mean_squared_error(y_pred_XGB_reg, y_test)), '.3f'))\n",
    "print(\"\\nRMSE of random forest: \", rmse_rf)\n",
    "print(\"\\nRMSE of Boosted Regression: \", rmse_GB)\n",
    "print(\"\\nRMSE of XGBoosted Regression: \", rmse_XGB)"
   ]
  },
  {
   "cell_type": "code",
   "execution_count": 63,
   "id": "1dd93f6c",
   "metadata": {
    "execution": {
     "iopub.execute_input": "2022-10-11T18:54:35.085215Z",
     "iopub.status.busy": "2022-10-11T18:54:35.084785Z",
     "iopub.status.idle": "2022-10-11T18:54:35.454591Z",
     "shell.execute_reply": "2022-10-11T18:54:35.453266Z"
    },
    "papermill": {
     "duration": 0.400799,
     "end_time": "2022-10-11T18:54:35.457537",
     "exception": false,
     "start_time": "2022-10-11T18:54:35.056738",
     "status": "completed"
    },
    "tags": []
   },
   "outputs": [
    {
     "data": {
      "image/png": "[encoded data removed]",
      "text/plain": [
       "<Figure size 2000x1200 with 1 Axes>"
      ]
     },
     "metadata": {},
     "output_type": "display_data"
    }
   ],
   "source": [
    "plt.rcParams['figure.figsize'] = (20,12)\n",
    "plt.plot(pred, label='Prediction of Random Forest')\n",
    "\n",
    "plt.plot(y_pred_GB_reg, label='Prediction of BOOSTED Regression')\n",
    "plt.plot(y_pred_XGB_reg, label='Prediction of XGBOOSTED Regression')\n",
    "plt.plot(y_test, label='actual values')\n",
    "plt.legend(loc =\"upper right\")\n",
    "plt.title('Model Performace on Testing Phase')\n",
    "plt.xlabel('Days')\n",
    "plt.ylabel('Rainfall (mm / Day)')\n",
    "plt.show()"
   ]
  },
  {
   "cell_type": "markdown",
   "id": "0e6dc8d6",
   "metadata": {
    "papermill": {
     "duration": 0.036786,
     "end_time": "2022-10-11T18:54:35.527138",
     "exception": false,
     "start_time": "2022-10-11T18:54:35.490352",
     "status": "completed"
    },
    "tags": []
   },
   "source": [
    "The project focuses on rainfall forecasting using ML models. The main objective was to use different algorithms, for example, Random Forest, Gradient Boosted, XGBoost Regression,  Rainfall forecasting is essentially a time series problem. In this study, we develop this model for time series forecasting. We use univariate time series forecasting because we have only one variable in the data set. \n",
    "•\tThe more data that is remembered for the model, the more exact the model can perform. \n",
    "•\tThe random forest model also improves gradient-boosted regression and XGB-biased regression. \n",
    "•\tMost of the values in the rainfall dataset are zero after training models on datasets where more than fifty percent of the values are zero, which are difficult to model to learn well. \n"
   ]
  }
 ],
 "metadata": {
  "kernelspec": {
   "display_name": "Python 3",
   "language": "python",
   "name": "python3"
  },
  "language_info": {
   "codemirror_mode": {
    "name": "ipython",
    "version": 3
   },
   "file_extension": ".py",
   "mimetype": "text/x-python",
   "name": "python",
   "nbconvert_exporter": "python",
   "pygments_lexer": "ipython3",
   "version": "3.10.9"
  },
  "papermill": {
   "default_parameters": {},
   "duration": 124.497369,
   "end_time": "2022-10-11T18:54:36.483968",
   "environment_variables": {},
   "exception": null,
   "input_path": "__notebook__.ipynb",
   "output_path": "__notebook__.ipynb",
   "parameters": {},
   "start_time": "2022-10-11T18:52:31.986599",
   "version": "2.3.4"
  }
 },
 "nbformat": 4,
 "nbformat_minor": 5
}
